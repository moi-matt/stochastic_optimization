{
 "cells": [
  {
   "cell_type": "markdown",
   "metadata": {},
   "source": [
    "# 5MA Sujet de projet\n",
    "\n",
    "# Transfert d'organe sous incertitude sur la compatibilité"
   ]
  },
  {
   "cell_type": "markdown",
   "metadata": {},
   "source": [
    "## Introduction\n",
    "\n",
    "Malgré l'augmentation croissante du nombre de transplantations d'organes effectuées chaque année (environ 6000 en 2017 dont 3782 transplantations de reins), la demande reste en perpétuelle augmentation. Ainsi 6000 organes, dont 3782 reins, ont été transplantés en 2017, mais il y avait encore 24000 personnes en attente d'un organe la même année. Les organes transplantés peuvent provenir d'un donneur décédé ou, dans le cas des reins et du foie, d'un donneur vivant consentant, le plus souvent membre de la famille du patient. Hélas, même si un proche accepte de prendre ce risque pour sa santé, il ne sera pas forcément compatible avec le patient. Pour cette raison, les pratiques médicales les législations évoluent dans de nombreux pays afin de permettre la mise en place d'un programme d'échange de dons d'organes.\n",
    "\n",
    "L'exemple le plus simple d'échange de don d'organes est celui où deux patients $P_1$ et $P_2$ sont accompagnés de donneurs $D_1$ et $D_2$. Les patients sont supposés incompatibles avec les donneurs qui les accompagnent, mais on suppose que $D_1$ est compatible avec $P_2$ et $D_2$ avec $P_1$. Il est alors possible de transplanter un organe de $D_1$ vers $P_2$ et de $D_2$ vers $P_1$ avec le consentement de tous et en suivant la procédure légale.\n",
    "\n",
    "Plus généralement, un cycle d'échange d'organes associe $k$ paires de patient-donneur $(P_{i_1},D_{i_1}), \\dots, P_{i_k},D_{i_k})$ de sorte que $D_{i_l}$ donne à $P_{i_{l+1}}$ pour $l=1,\\dots,k-1$ et $D_{i_k}$ donne à $P_{i_1}$.\n",
    "Par ailleurs, le point essentiel est que les transferts soient tous réalisés en même temps et dans le même hôpital pour éviter qu'une rétractation de dernière minute ne lèse un patient et son donneur, et que les patients et donneurs venus ensemble et leur famille puissent se soutenir émotionnellement durant l'hospitalisation. \n",
    "Pour cette raison, le nombre d'échanges prenant place au sein d'un même cycle est nécessairement limité. En pratique, l'organisation d'un cycle de trois paires est déjà une épreuve pour le personnel d'un hôpital, et le plus grand cycle ayant jamais eu lieu a a impliqué six patients et donneurs.\n",
    "\n",
    "Dans ce projet, nous prendrons le point de vue de l'organisme national responsable de la gestion du programme d'échange d'organes. \n",
    "À chaque phase d'échange, l'objectif de cet organisme est de choisir un ensemble de cycles d'échanges entre paires compatibles afin de maximiser le nombre de patients recevant un organe. Dans certains cas, on peut aussi donner une priorité à certains patients en fonction de la gravité de leur état ou de la durée de leur attente. \n",
    "Pour cela, on pourra attribuer des poids différents à chaque patient et maximiser la somme des poids des patients recevant un organe. \n",
    "\n",
    "Lors d'une première phase de planification, l'organisme ne dispose que de données individuelles sur chaque donneur et chaque receveur pour déduire la compatibilité entre donneurs et patients. \n",
    "Ces données sont principalement le groupe sanguin et le complexe majeur d’histocompatibilité, aussi appelé système HLA. \n",
    "Ils en tirent un premier graphe de compatibilité orienté, $G=(V,A)$, où chaque sommet de $V$ représente une paire donneur-patient et où un arc entre deux paires $(P_k,D_k)$ et $(P_l,D_l)$ signifie que $D_k$ est __a priori__ compatible avec $P_l$.\n",
    "Cependant, la compatibilité effective entre deux personnes ne peut être assurée qu'en mettant en présence des tissus des deux personnes dans ce que l'on appelle un _test croisé_. \n",
    "En général, on peut supposer que les données individuelles permettent de déterminer une probabilité de réussite du test croisé.\n",
    "Mais, dans tous les cas, ces tests peuvent être lourds à réaliser pour les patients et demander des ressources importantes aupèrs des services hospitaliers, donc leur nombre sera toujours limité. \n",
    "On pourra pour cela considérer une limite fixe, une limite dépendant du nombre de paires patient-donneur ou bien supposer que les tests ne servent qu'à confirmer la compatibilité après avoir décidé les cycles d'échange entre patients a priori compatibles. "
   ]
  },
  {
   "cell_type": "markdown",
   "metadata": {},
   "source": [
    "## Description des données\n",
    "\n",
    "Des jeux de données correspondant à des ensembles de paires patient-donneur ont été partagés dans la PrefLib (https://www.preflib.org/data/MD). Le sous-ensemble d'instances auxquels vous pourrez vous intéresser dans un premier temps accompagne ce sujet sur Moodle. Les dix premières instances (numérotées de 1 à 10) contiennent 10 paires patient-donneur, les 10 suivantes (numérotées de 31 à 40) en contiennent 32 et les 10 dernières (numérotées de 71 à 80) en contiennent 64. Chaque jeu de données est décrit par deux fichiers, l'un énumérant les données relatives à chaque paire et portant l'extension .dat, et l'autre énumérant les données relatives aux arcs et portant l'extension .wmd.\n",
    "Nous vous fournissons une fonction permettant de lire les fichiers relatifs à un jeu de donnéees. "
   ]
  },
  {
   "cell_type": "code",
   "execution_count": 35,
   "metadata": {},
   "outputs": [],
   "source": [
    "# include all the necessary packages, if some of them are not installed, you will need to install them before\n",
    "using Random, MetaGraphs, SimpleWeightedGraphs, LightGraphs, JuMP, DelimitedFiles, Distributions"
   ]
  },
  {
   "cell_type": "code",
   "execution_count": 36,
   "metadata": {},
   "outputs": [
    {
     "data": {
      "text/plain": [
       "read_kep_file"
      ]
     },
     "execution_count": 36,
     "metadata": {},
     "output_type": "execute_result"
    }
   ],
   "source": [
    "\"\"\"\n",
    "    read_kep_file\n",
    "\n",
    "Contruct a kep_graph from a `.wmd` and a `.dat` files from PrefLib.\n",
    "\n",
    "# Parameters\n",
    "* `wmd_file::String` : path of the `.wmd` file.\n",
    "* `dat_file::String` : path of the `.dat` file.\n",
    "\"\"\"\n",
    "function read_kep_file(wmd_file::String, dat_file::String)\n",
    "    wmd_file_name = split(split(wmd_file, '/')[end], '.')[1]\n",
    "    dat_file_name = split(split(dat_file, '/')[end], '.')[1]\n",
    "\n",
    "    wmd_file_name == dat_file_name || throw(ArgumentError(\".wmd and .dat files do not correspond to the same dataset.\"))\n",
    "    isfile(wmd_file) || throw(ArgumentError(\"$(wmd_file): file not found.\"))\n",
    "    isfile(dat_file) || throw(ArgumentError(\".dat file not found.\"))\n",
    "\n",
    "    # Extract meta information from the .dat file\n",
    "    file = readdlm(dat_file, '\\n')\n",
    "    nb_vertices = length(file)-1\n",
    "    kep_graph = MetaDiGraph(nb_vertices, 0)\n",
    "    for line in file[2:end]\n",
    "        splitted_line = split(line, ',')\n",
    "        pair = parse(Int, splitted_line[1])\n",
    "        set_prop!(kep_graph, pair, :pra, parse(Float64, splitted_line[5]))\n",
    "    end\n",
    "    # Extract the graph structure from the .wmd file using a MetaGraph\n",
    "    # get the number of vertices in first line\n",
    "    wmd_io = open(wmd_file, \"r\")\n",
    "\n",
    "    # skip next nb_vertices lines, which are redundant with the data contained in the .dat file\n",
    "    for i in 1:nb_vertices+1\n",
    "        readline(wmd_io)\n",
    "    end\n",
    "    # read the set of edges\n",
    "    while !eof(wmd_io)\n",
    "        splitted_line = split(readline(wmd_io), ',')\n",
    "        # /!\\ Pairs are numbered from 0 in the second part of the file\n",
    "        source = parse(Int, splitted_line[1]) + 1\n",
    "        destination = parse(Int, splitted_line[2]) + 1\n",
    "        weight = parse(Int, splitted_line[3])\n",
    "\n",
    "        # do not add an edge that has a zero weight\n",
    "        if weight > 0\n",
    "            add_edge!(kep_graph, source, destination, :weight, weight)\n",
    "        end\n",
    "    end\n",
    "    return kep_graph\n",
    "end"
   ]
  },
  {
   "cell_type": "code",
   "execution_count": 37,
   "metadata": {},
   "outputs": [],
   "source": [
    "# Exemple d'utilisation de la fonction supposant que les fichiers sont dans le dossier data\n",
    "kep_graph = read_kep_file(\"data/MD-00001-00000001.wmd\",\"data/MD-00001-00000001.dat\");"
   ]
  },
  {
   "cell_type": "markdown",
   "metadata": {},
   "source": [
    "Une fois le graphe de compatibilité donné, une instance est entièrement décrite par la connaissance de la distribution des incertitudes dans une approche par optimisation stochastique. Dans une approche par optimisation robuste, le pire cas est déjà connu pour chaque arête, il s'agit d'un échec de la transplantation. Plusieurs modèles d'incertitudes sont classiquement regardés dans la littérature, mais tous considèrent que la réussite du test croisé réalisé sur un arc $a$ suit une loi de Bernouilli de probabilité $1-f_a$ où $f_a$ est une probabilité d'échec donnée. Nous donnons ci-dessous la fonction permettant de calculer des probabilités d'échec pour tous les arcs en fonction d'un paramètre à choisir dans le tableau DISTRIBUTIONS."
   ]
  },
  {
   "cell_type": "code",
   "execution_count": 38,
   "metadata": {},
   "outputs": [
    {
     "data": {
      "text/plain": [
       "get_failure_rates"
      ]
     },
     "execution_count": 38,
     "metadata": {},
     "output_type": "execute_result"
    }
   ],
   "source": [
    "DISTRIBUTIONS = [\"Constant\",\"Binomial\",\"BinomialUNOS\",\"BinomialAPD\",\"NoFailure\"]\n",
    "\n",
    "\"\"\"\n",
    "    get_failure_rates\n",
    "\n",
    "Generate failure rates on each edge, and add its value as a property to the edge of the kep_graph. \n",
    "\n",
    "# Parameters\n",
    "* `kep_graph::MetaDiGraph` : graph describing the pairs and compatibilities\n",
    "* `distribution::String` : type of distirbution of uncertainties; to be chosen in the DISTRIBUTIONS vector\n",
    "\"\"\"\n",
    "function get_failure_rates(kep_graph::MetaDiGraph, distribution::String)\n",
    "\n",
    "    failure_rates = []\n",
    "\n",
    "    for edge in edges(kep_graph)\n",
    "        # Failure rates depend on the chosen distribution of uncertainties\n",
    "        if distribution == \"Constant\"\n",
    "            # constant failure rates equal to 70%\n",
    "            set_prop!(kep_graph, edge, :failure, 0.7)\n",
    "        elseif distribution == \"Binomial\"\n",
    "            if rand() < 0.25\n",
    "                # random failure rates equal to 10% on average for 25% edges\n",
    "                set_prop!(kep_graph, edge, :failure, rand() * 0.2)\n",
    "            else\n",
    "                # random failure rates equal to 90% on average for 75% edges\n",
    "                set_prop!(kep_graph, edge, :failure, 0.8 + rand() * 0.2)\n",
    "            end\n",
    "        elseif distribution == \"BinomialUNOS\"\n",
    "            # %pra denotes the panel reactive antibody level\n",
    "            # %pra of the patient < 0.8 : UNOS low sensitized patients\n",
    "            if get_prop(kep_graph, edge.dst, :pra) < 0.8\n",
    "                # failure rate equal to 10% if the patient is low sensitized\n",
    "                set_prop!(kep_graph, edge, :failure, 0.1)\n",
    "            else\n",
    "                # failure rate equal to 90% otherwise \n",
    "                set_prop!(kep_graph, edge, :failure, 0.9)\n",
    "            end\n",
    "        elseif distribution  == \"BinomialAPD\"\n",
    "            # %pra denotes the panel reactive antibody level\n",
    "            # %pra of the patient < 0.75 : APD low sensitized patients\n",
    "            if get_prop(kep_graph, edge.dst, :pra) < 0.75\n",
    "                # failure rate equal to 28% if the patient is low sensitized\n",
    "                set_prop!(kep_graph, edge, :failure, 0.28)\n",
    "            else\n",
    "                # failure rate equal to 58% otherwise \n",
    "                set_prop!(kep_graph, edge, :failure, 0.58)\n",
    "            end\n",
    "        elseif distribution == \"NoFailure\"\n",
    "            # failure rates equal to 0\n",
    "            set_prop!(kep_graph, edge, :failure, 0.)\n",
    "        end\n",
    "    end\n",
    "end\n"
   ]
  },
  {
   "cell_type": "code",
   "execution_count": 39,
   "metadata": {},
   "outputs": [],
   "source": [
    "failure_rates = get_failure_rates(kep_graph, \"Constant\");"
   ]
  },
  {
   "cell_type": "code",
   "execution_count": 31,
   "metadata": {},
   "outputs": [
    {
     "name": "stdout",
     "output_type": "stream",
     "text": [
      "[0.7, 0.7, 0.7, 0.7, 0.7, 0.7, 0.7, 0.7, 0.7, 0.7, 0.7, 0.7, 0.7, 0.7, 0.7, 0.7, 0.7, 0.7, 0.7, 0.7, 0.7, 0.7, 0.7, 0.7, 0.7, 0.7, 0.7, 0.7, 0.7, 0.7, 0.7, 0.7, 0.7, 0.7, 0.7, 0.7, 0.7, 0.7, 0.7, 0.7, 0.7, 0.7, 0.7, 0.7, 0.7, 0.7, 0.7, 0.7, 0.7, 0.7, 0.7, 0.7, 0.7, 0.7, 0.7, 0.7, 0.7, 0.7, 0.7]"
     ]
    }
   ],
   "source": [
    "print([get_prop(kep_graph,e,:failure) for e in edges(kep_graph)])"
   ]
  },
  {
   "cell_type": "markdown",
   "metadata": {},
   "source": [
    "## Travail à réaliser\n",
    "\n",
    "Nous vous donnons une grande liberté sur la façon de traiter le sujet. En fonction de décisions que vous justifierez, vous pourrez traiter le problème par une approche d'optimisation stochastique, d'optimisation robuste ou de toute autre approche averse aux risques. Le travail commencera par décrire l'approche suivie puis le modèle en découlant. Un code Julia permettra ensuite d'implémenter une ou plusieurs méthodes de résolution pour le modèle. Vous pourrez tester la ou les méthodes sur des instances de la PrefLib. Vos interprétations devront rendre compte des enjeux pratiques et des enjeux algorithmiques (optimalité, temps de calcul, passage à l'échelle, etc.) de votre travail.\n",
    "Le résultat de votre travail sera à rendre dans ce notebook avant le 14 janvier 2022. Chaque cellule du notebook aura préalablement été exécutée (sans erreur, évidemment), et il importera que les affichages utilisés dans vos interprétations y apparaissent. "
   ]
  },
  {
   "cell_type": "code",
   "execution_count": null,
   "metadata": {},
   "outputs": [],
   "source": []
  }
 ],
 "metadata": {
  "kernelspec": {
   "display_name": "Julia 1.6.2",
   "language": "julia",
   "name": "julia-1.6"
  },
  "language_info": {
   "file_extension": ".jl",
   "mimetype": "application/julia",
   "name": "julia",
   "version": "1.6.2"
  }
 },
 "nbformat": 4,
 "nbformat_minor": 2
}
