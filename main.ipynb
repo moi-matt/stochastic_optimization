{
 "cells": [
  {
   "cell_type": "markdown",
   "metadata": {},
   "source": [
    "\n",
    "# Transfert d'organe sous incertitude sur la compatibilité\n",
    "\n",
    "Sibylline Moukarzel, Matthieu Roux"
   ]
  },
  {
   "cell_type": "markdown",
   "metadata": {},
   "source": [
    "## Introduction\n",
    "\n",
    "Malgré l'augmentation croissante du nombre de transplantations d'organes effectuées chaque année (environ 6000 en 2017 dont 3782 transplantations de reins), la demande reste en perpétuelle augmentation. Ainsi 6000 organes, dont 3782 reins, ont été transplantés en 2017, mais il y avait encore 24000 personnes en attente d'un organe la même année. Les organes transplantés peuvent provenir d'un donneur décédé ou, dans le cas des reins et du foie, d'un donneur vivant consentant, le plus souvent membre de la famille du patient. Hélas, même si un proche accepte de prendre ce risque pour sa santé, il ne sera pas forcément compatible avec le patient. Pour cette raison, les pratiques médicales les législations évoluent dans de nombreux pays afin de permettre la mise en place d'un programme d'échange de dons d'organes.\n",
    "\n",
    "L'exemple le plus simple d'échange de don d'organes est celui où deux patients $P_1$ et $P_2$ sont accompagnés de donneurs $D_1$ et $D_2$. Les patients sont supposés incompatibles avec les donneurs qui les accompagnent, mais on suppose que $D_1$ est compatible avec $P_2$ et $D_2$ avec $P_1$. Il est alors possible de transplanter un organe de $D_1$ vers $P_2$ et de $D_2$ vers $P_1$ avec le consentement de tous et en suivant la procédure légale.\n",
    "\n",
    "Plus généralement, un cycle d'échange d'organes associe $k$ paires de patient-donneur $(P_{i_1},D_{i_1}), \\dots, P_{i_k},D_{i_k})$ de sorte que $D_{i_l}$ donne à $P_{i_{l+1}}$ pour $l=1,\\dots,k-1$ et $D_{i_k}$ donne à $P_{i_1}$.\n",
    "Par ailleurs, le point essentiel est que les transferts soient tous réalisés en même temps et dans le même hôpital pour éviter qu'une rétractation de dernière minute ne lèse un patient et son donneur, et que les patients et donneurs venus ensemble et leur famille puissent se soutenir émotionnellement durant l'hospitalisation. \n",
    "Pour cette raison, le nombre d'échanges prenant place au sein d'un même cycle est nécessairement limité. En pratique, l'organisation d'un cycle de trois paires est déjà une épreuve pour le personnel d'un hôpital, et le plus grand cycle ayant jamais eu lieu a a impliqué six patients et donneurs.\n",
    "\n",
    "Dans ce projet, nous prendrons le point de vue de l'organisme national responsable de la gestion du programme d'échange d'organes. \n",
    "À chaque phase d'échange, l'objectif de cet organisme est de choisir un ensemble de cycles d'échanges entre paires compatibles afin de maximiser le nombre de patients recevant un organe. Dans certains cas, on peut aussi donner une priorité à certains patients en fonction de la gravité de leur état ou de la durée de leur attente. \n",
    "Pour cela, on pourra attribuer des poids différents à chaque patient et maximiser la somme des poids des patients recevant un organe. \n",
    "\n",
    "Lors d'une première phase de planification, l'organisme ne dispose que de données individuelles sur chaque donneur et chaque receveur pour déduire la compatibilité entre donneurs et patients. \n",
    "Ces données sont principalement le groupe sanguin et le complexe majeur d’histocompatibilité, aussi appelé système HLA. \n",
    "Ils en tirent un premier graphe de compatibilité orienté, $G=(V,A)$, où chaque sommet de $V$ représente une paire donneur-patient et où un arc entre deux paires $(P_k,D_k)$ et $(P_l,D_l)$ signifie que $D_k$ est __a priori__ compatible avec $P_l$.\n",
    "Cependant, la compatibilité effective entre deux personnes ne peut être assurée qu'en mettant en présence des tissus des deux personnes dans ce que l'on appelle un _test croisé_. \n",
    "En général, on peut supposer que les données individuelles permettent de déterminer une probabilité de réussite du test croisé.\n",
    "Mais, dans tous les cas, ces tests peuvent être lourds à réaliser pour les patients et demander des ressources importantes aupèrs des services hospitaliers, donc leur nombre sera toujours limité. \n",
    "On pourra pour cela considérer une limite fixe, une limite dépendant du nombre de paires patient-donneur ou bien supposer que les tests ne servent qu'à confirmer la compatibilité après avoir décidé les cycles d'échange entre patients a priori compatibles. "
   ]
  },
  {
   "cell_type": "markdown",
   "metadata": {},
   "source": [
    "## Description des données\n",
    "\n",
    "Des jeux de données correspondant à des ensembles de paires patient-donneur ont été partagés dans la PrefLib (https://www.preflib.org/data/MD). Le sous-ensemble d'instances auxquels vous pourrez vous intéresser dans un premier temps accompagne ce sujet sur Moodle. Les dix premières instances (numérotées de 1 à 10) contiennent 10 paires patient-donneur, les 10 suivantes (numérotées de 31 à 40) en contiennent 32 et les 10 dernières (numérotées de 71 à 80) en contiennent 64. Chaque jeu de données est décrit par deux fichiers, l'un énumérant les données relatives à chaque paire et portant l'extension .dat, et l'autre énumérant les données relatives aux arcs et portant l'extension .wmd.\n",
    "Nous vous fournissons une fonction permettant de lire les fichiers relatifs à un jeu de donnéees. "
   ]
  },
  {
   "cell_type": "code",
   "execution_count": 1,
   "metadata": {},
   "outputs": [
    {
     "name": "stderr",
     "output_type": "stream",
     "text": [
      "\u001b[32m\u001b[1m   Updating\u001b[22m\u001b[39m registry at `~/.julia/registries/General`\n",
      "--2022-10-27 21:10:47--  https://pkg.julialang.org/registry/23338594-aafe-5451-b93e-139f81909106/386784dd07c99cedf2defa8a37a0e310907023a3\n",
      "Résolution de pkg.julialang.org (pkg.julialang.org)… 151.101.122.217, 2a04:4e42:1d::729\n",
      "Connexion à pkg.julialang.org (pkg.julialang.org)|151.101.122.217|:443… connecté.\n",
      "requête HTTP transmise, en attente de la réponse… 301 EU internal redirect trigger\n",
      "Emplacement : https://eu-central.pkg.julialang.org/registry/23338594-aafe-5451-b93e-139f81909106/386784dd07c99cedf2defa8a37a0e310907023a3 [suivant]\n",
      "--2022-10-27 21:10:48--  https://eu-central.pkg.julialang.org/registry/23338594-aafe-5451-b93e-139f81909106/386784dd07c99cedf2defa8a37a0e310907023a3\n",
      "Résolution de eu-central.pkg.julialang.org (eu-central.pkg.julialang.org)… 52.57.14.183, 2a05:d014:761:2a00:592b:367c:d373:a763\n",
      "Connexion à eu-central.pkg.julialang.org (eu-central.pkg.julialang.org)|52.57.14.183|:443… connecté.\n",
      "requête HTTP transmise, en attente de la réponse… 200 OK\n",
      "Taille : 5431992 (5,2M) [application/octet-stream]\n",
      "Enregistre : «/tmp/jl_2ILIkP-download.gz»\n",
      "\n",
      "     0K .......... .......... .......... .......... ..........  0% 2,83M 2s\n",
      "    50K .......... .......... .......... .......... ..........  1% 2,99M 2s\n",
      "   100K .......... .......... .......... .......... ..........  2% 72,0M 1s\n",
      "   150K .......... .......... .......... .......... ..........  3% 29,3M 1s\n",
      "   200K .......... .......... .......... .......... ..........  4% 3,23M 1s\n",
      "   250K .......... .......... .......... .......... ..........  5%  335M 1s\n",
      "   300K .......... .......... .......... .......... ..........  6% 38,9M 1s\n",
      "   350K .......... .......... .......... .......... ..........  7% 84,9M 1s\n",
      "   400K .......... .......... .......... .......... ..........  8% 3,42M 1s\n",
      "   450K .......... .......... .......... .......... ..........  9%  253M 1s\n",
      "   500K .......... .......... .......... .......... .......... 10% 60,7M 1s\n",
      "   550K .......... .......... .......... .......... .......... 11% 35,3M 1s\n",
      "   600K .......... .......... .......... .......... .......... 12%  117M 1s\n",
      "   650K .......... .......... .......... .......... .......... 13% 3,45M 1s\n",
      "   700K .......... .......... .......... .......... .......... 14%  127M 1s\n",
      "   750K .......... .......... .......... .......... .......... 15% 66,0M 0s\n",
      "   800K .......... .......... .......... .......... .......... 16% 72,8M 0s\n",
      "   850K .......... .......... .......... .......... .......... 16% 95,5M 0s\n",
      "   900K .......... .......... .......... .......... .......... 17% 2,57M 0s\n",
      "   950K .......... .......... .......... .......... .......... 18% 2,81M 1s\n",
      "  1000K .......... .......... .......... .......... .......... 19%  284M 0s\n",
      "  1050K .......... .......... .......... .......... .......... 20%  202M 0s\n",
      "  1100K .......... .......... .......... .......... .......... 21%  385M 0s\n",
      "  1150K .......... .......... .......... .......... .......... 22%  350M 0s\n",
      "  1200K .......... .......... .......... .......... .......... 23%  459M 0s\n",
      "  1250K .......... .......... .......... .......... .......... 24%  442M 0s\n",
      "  1300K .......... .......... .......... .......... .......... 25%  452M 0s\n",
      "  1350K .......... .......... .......... .......... .......... 26% 64,6M 0s\n",
      "  1400K .......... .......... .......... .......... .......... 27%  487M 0s\n",
      "  1450K .......... .......... .......... .......... .......... 28%  306M 0s\n",
      "  1500K .......... .......... .......... .......... .......... 29%  186M 0s\n",
      "  1550K .......... .......... .......... .......... .......... 30%  343M 0s\n",
      "  1600K .......... .......... .......... .......... .......... 31%  511M 0s\n",
      "  1650K .......... .......... .......... .......... .......... 32%  455M 0s\n",
      "  1700K .......... .......... .......... .......... .......... 32%  447M 0s\n",
      "  1750K .......... .......... .......... .......... .......... 33%  243M 0s\n",
      "  1800K .......... .......... .......... .......... .......... 34%  279M 0s\n",
      "  1850K .......... .......... .......... .......... .......... 35%  446M 0s\n",
      "  1900K .......... .......... .......... .......... .......... 36%  325M 0s\n",
      "  1950K .......... .......... .......... .......... .......... 37% 3,65M 0s\n",
      "  2000K .......... .......... .......... .......... .......... 38%  103M 0s\n",
      "  2050K .......... .......... .......... .......... .......... 39% 14,6M 0s\n",
      "  2100K .......... .......... .......... .......... .......... 40% 3,46M 0s\n",
      "  2150K .......... .......... .......... .......... .......... 41% 87,8M 0s\n",
      "  2200K .......... .......... .......... .......... .......... 42%  171M 0s\n",
      "  2250K .......... .......... .......... .......... .......... 43% 39,8M 0s\n",
      "  2300K .......... .......... .......... .......... .......... 44%  143M 0s\n",
      "  2350K .......... .......... .......... .......... .......... 45% 3,71M 0s\n",
      "  2400K .......... .......... .......... .......... .......... 46%  108M 0s\n",
      "  2450K .......... .......... .......... .......... .......... 47%  107M 0s\n",
      "  2500K .......... .......... .......... .......... .......... 48%  119M 0s\n",
      "  2550K .......... .......... .......... .......... .......... 49%  291M 0s\n",
      "  2600K .......... .......... .......... .......... .......... 49%  281M 0s\n",
      "  2650K .......... .......... .......... .......... .......... 50%  355M 0s\n",
      "  2700K .......... .......... .......... .......... .......... 51%  467M 0s\n",
      "  2750K .......... .......... .......... .......... .......... 52%  291M 0s\n",
      "  2800K .......... .......... .......... .......... .......... 53%  224M 0s\n",
      "  2850K .......... .......... .......... .......... .......... 54%  112M 0s\n",
      "  2900K .......... .......... .......... .......... .......... 55% 82,6M 0s\n",
      "  2950K .......... .......... .......... .......... .......... 56% 93,7M 0s\n",
      "  3000K .......... .......... .......... .......... .......... 57% 3,65M 0s\n",
      "  3050K .......... .......... .......... .......... .......... 58% 87,8M 0s\n",
      "  3100K .......... .......... .......... .......... .......... 59%  325M 0s\n",
      "  3150K .......... .......... .......... .......... .......... 60% 82,3M 0s\n",
      "  3200K .......... .......... .......... .......... .......... 61% 89,8M 0s\n",
      "  3250K .......... .......... .......... .......... .......... 62% 99,7M 0s\n",
      "  3300K .......... .......... .......... .......... .......... 63%  104M 0s\n",
      "  3350K .......... .......... .......... .......... .......... 64% 95,0M 0s\n",
      "  3400K .......... .......... .......... .......... .......... 65% 83,6M 0s\n",
      "  3450K .......... .......... .......... .......... .......... 65% 3,60M 0s\n",
      "  3500K .......... .......... .......... .......... .......... 66% 83,6M 0s\n",
      "  3550K .......... .......... .......... .......... .......... 67%  234M 0s\n",
      "  3600K .......... .......... .......... .......... .......... 68%  125M 0s\n",
      "  3650K .......... .......... .......... .......... .......... 69% 19,6M 0s\n",
      "  3700K .......... .......... .......... .......... .......... 70%  527M 0s\n",
      "  3750K .......... .......... .......... .......... .......... 71%  348M 0s\n",
      "  3800K .......... .......... .......... .......... .......... 72%  527M 0s\n",
      "  3850K .......... .......... .......... .......... .......... 73%  207M 0s\n",
      "  3900K .......... .......... .......... .......... .......... 74% 3,74M 0s\n",
      "  3950K .......... .......... .......... .......... .......... 75%  155M 0s\n",
      "  4000K .......... .......... .......... .......... .......... 76%  100M 0s\n",
      "  4050K .......... .......... .......... .......... .......... 77% 64,0M 0s\n",
      "  4100K .......... .......... .......... .......... .......... 78%  255M 0s\n",
      "  4150K .......... .......... .......... .......... .......... 79% 60,8M 0s\n",
      "  4200K .......... .......... .......... .......... .......... 80%  274M 0s\n",
      "  4250K .......... .......... .......... .......... .......... 81% 53,0M 0s\n",
      "  4300K .......... .......... .......... .......... .......... 82% 3,89M 0s\n",
      "  4350K .......... .......... .......... .......... .......... 82% 56,5M 0s\n",
      "  4400K .......... .......... .......... .......... .......... 83% 17,0M 0s\n",
      "  4450K .......... .......... .......... .......... .......... 84%  226M 0s\n",
      "  4500K .......... .......... .......... .......... .......... 85% 98,4M 0s\n",
      "  4550K .......... .......... .......... .......... .......... 86%  406M 0s\n",
      "  4600K .......... .......... .......... .......... .......... 87%  289M 0s\n",
      "  4650K .......... .......... .......... .......... .......... 88%  235M 0s\n",
      "  4700K .......... .......... .......... .......... .......... 89%  403M 0s\n"
     ]
    },
    {
     "name": "stderr",
     "output_type": "stream",
     "text": [
      "  4750K .......... .......... .......... .......... .......... 90% 2,95M 0s\n",
      "  4800K .......... .......... .......... .......... .......... 91%  219M 0s\n",
      "  4850K .......... .......... .......... .......... .......... 92% 24,4M 0s\n",
      "  4900K .......... .......... .......... .......... .......... 93%  188M 0s\n",
      "  4950K .......... .......... .......... .......... .......... 94%  133M 0s\n",
      "  5000K .......... .......... .......... .......... .......... 95%  170M 0s\n",
      "  5050K .......... .......... .......... .......... .......... 96%  195M 0s\n",
      "  5100K .......... .......... .......... .......... .......... 97%  244M 0s\n",
      "  5150K .......... .......... .......... .......... .......... 98% 5,34M 0s\n",
      "  5200K .......... .......... .......... .......... .......... 98% 71,4M 0s\n",
      "  5250K .......... .......... .......... .......... .......... 99% 50,2M 0s\n",
      "  5300K ....                                                  100% 82,4M=0,3s\n",
      "\n",
      "2022-10-27 21:10:48 (18,7 MB/s) - «/tmp/jl_2ILIkP-download.gz» enregistré [5431992/5431992]\n",
      "\n",
      "\u001b[32m\u001b[1m  Resolving\u001b[22m\u001b[39m package versions...\n",
      "\u001b[32m\u001b[1mNo Changes\u001b[22m\u001b[39m to `~/.julia/environments/v1.5/Project.toml`\n",
      "\u001b[32m\u001b[1mNo Changes\u001b[22m\u001b[39m to `~/.julia/environments/v1.5/Manifest.toml`\n",
      "\u001b[32m\u001b[1m  Resolving\u001b[22m\u001b[39m package versions...\n",
      "\u001b[32m\u001b[1mNo Changes\u001b[22m\u001b[39m to `~/.julia/environments/v1.5/Project.toml`\n",
      "\u001b[32m\u001b[1mNo Changes\u001b[22m\u001b[39m to `~/.julia/environments/v1.5/Manifest.toml`\n",
      "┌ Info: Precompiling MetaGraphs [626554b9-1ddb-594c-aa3c-2596fe9399a5]\n",
      "└ @ Base loading.jl:1278\n",
      "ERROR: LoadError: Failed to precompile Graphs [86223c79-3864-5bf0-83f7-82e725a168b6] to /home/gm/.julia/compiled/v1.5/Graphs/VJ6vx_RPc1x.ji.\n",
      "Stacktrace:\n",
      " [1] error(::String) at ./error.jl:33\n",
      " [2] compilecache(::Base.PkgId, ::String) at ./loading.jl:1305\n",
      " [3] _require(::Base.PkgId) at ./loading.jl:1030\n",
      " [4] require(::Base.PkgId) at ./loading.jl:928\n",
      " [5] require(::Module, ::Symbol) at ./loading.jl:923\n",
      " [6] include(::Function, ::Module, ::String) at ./Base.jl:380\n",
      " [7] include(::Module, ::String) at ./Base.jl:368\n",
      " [8] top-level scope at none:2\n",
      " [9] eval at ./boot.jl:331 [inlined]\n",
      " [10] eval(::Expr) at ./client.jl:467\n",
      " [11] top-level scope at ./none:3\n",
      "in expression starting at /home/gm/.julia/packages/MetaGraphs/bffKb/src/MetaGraphs.jl:2\n"
     ]
    },
    {
     "ename": "LoadError",
     "evalue": "\u001b[91mFailed to precompile MetaGraphs [626554b9-1ddb-594c-aa3c-2596fe9399a5] to /home/gm/.julia/compiled/v1.5/MetaGraphs/KfBxe_RPc1x.ji.\u001b[39m",
     "output_type": "error",
     "traceback": [
      "\u001b[91mFailed to precompile MetaGraphs [626554b9-1ddb-594c-aa3c-2596fe9399a5] to /home/gm/.julia/compiled/v1.5/MetaGraphs/KfBxe_RPc1x.ji.\u001b[39m",
      "",
      "Stacktrace:",
      " [1] error(::String) at ./error.jl:33",
      " [2] compilecache(::Base.PkgId, ::String) at ./loading.jl:1305",
      " [3] _require(::Base.PkgId) at ./loading.jl:1030",
      " [4] require(::Base.PkgId) at ./loading.jl:928",
      " [5] require(::Module, ::Symbol) at ./loading.jl:923",
      " [6] include_string(::Function, ::Module, ::String, ::String) at ./loading.jl:1091"
     ]
    }
   ],
   "source": [
    "# include all the necessary packages, if some of them are not installed, you will need to install them before\n",
    "using Pkg\n",
    "Pkg.add(\"MetaGraphs\")\n",
    "Pkg.add(\"SimpleWeightedGraphs\")\n",
    "#Pkg.add(\"LightGraphs\")\n",
    "#LightGraphs\n",
    "using Random, MetaGraphs, SimpleWeightedGraphs,JuMP, DelimitedFiles, Distributions"
   ]
  },
  {
   "cell_type": "code",
   "execution_count": null,
   "metadata": {},
   "outputs": [
    {
     "name": "stderr",
     "output_type": "stream",
     "text": [
      "┌ Info: Precompiling MetaGraphs [626554b9-1ddb-594c-aa3c-2596fe9399a5]\n",
      "└ @ Base loading.jl:1278\n",
      "┌ Info: Precompiling SimpleWeightedGraphs [47aef6b3-ad0c-573a-a1e2-d07658019622]\n",
      "└ @ Base loading.jl:1278\n",
      "┌ Info: Precompiling JuMP [4076af6c-e467-56ae-b986-b466b2749572]\n",
      "└ @ Base loading.jl:1278\n"
     ]
    }
   ],
   "source": [
    "using Random, MetaGraphs, SimpleWeightedGraphs,JuMP, DelimitedFiles, Distributions"
   ]
  },
  {
   "cell_type": "code",
   "execution_count": 37,
   "metadata": {},
   "outputs": [],
   "source": [
    "# Inclusion du fichier contenant la fonction de parsing des données\n",
    "@nbinclude(dataparser.ipynb)\n",
    "# Exemple d'utilisation de la fonction supposant que les fichiers sont dans le dossier data\n",
    "kep_graph = read_kep_file(\"data/MD-00001-00000001.wmd\",\"data/MD-00001-00000001.dat\");"
   ]
  },
  {
   "cell_type": "markdown",
   "metadata": {},
   "source": [
    "Une fois le graphe de compatibilité donné, une instance est entièrement décrite par la connaissance de la distribution des incertitudes dans une approche par optimisation stochastique. Dans une approche par optimisation robuste, le pire cas est déjà connu pour chaque arête, il s'agit d'un échec de la transplantation. Plusieurs modèles d'incertitudes sont classiquement regardés dans la littérature, mais tous considèrent que la réussite du test croisé réalisé sur un arc $a$ suit une loi de Bernouilli de probabilité $1-f_a$ où $f_a$ est une probabilité d'échec donnée. Nous donnons ci-dessous la fonction permettant de calculer des probabilités d'échec pour tous les arcs en fonction d'un paramètre à choisir dans le tableau DISTRIBUTIONS."
   ]
  },
  {
   "cell_type": "code",
   "execution_count": 38,
   "metadata": {},
   "outputs": [
    {
     "data": {
      "text/plain": [
       "get_failure_rates"
      ]
     },
     "execution_count": 38,
     "metadata": {},
     "output_type": "execute_result"
    }
   ],
   "source": [
    "DISTRIBUTIONS = [\"Constant\",\"Binomial\",\"BinomialUNOS\",\"BinomialAPD\",\"NoFailure\"]\n",
    "\n",
    "\"\"\"\n",
    "    get_failure_rates\n",
    "\n",
    "Generate failure rates on each edge, and add its value as a property to the edge of the kep_graph. \n",
    "\n",
    "# Parameters\n",
    "* `kep_graph::MetaDiGraph` : graph describing the pairs and compatibilities\n",
    "* `distribution::String` : type of distirbution of uncertainties; to be chosen in the DISTRIBUTIONS vector\n",
    "\"\"\"\n",
    "function get_failure_rates(kep_graph::MetaDiGraph, distribution::String)\n",
    "\n",
    "    failure_rates = []\n",
    "\n",
    "    for edge in edges(kep_graph)\n",
    "        # Failure rates depend on the chosen distribution of uncertainties\n",
    "        if distribution == \"Constant\"\n",
    "            # constant failure rates equal to 70%\n",
    "            set_prop!(kep_graph, edge, :failure, 0.7)\n",
    "        elseif distribution == \"Binomial\"\n",
    "            if rand() < 0.25\n",
    "                # random failure rates equal to 10% on average for 25% edges\n",
    "                set_prop!(kep_graph, edge, :failure, rand() * 0.2)\n",
    "            else\n",
    "                # random failure rates equal to 90% on average for 75% edges\n",
    "                set_prop!(kep_graph, edge, :failure, 0.8 + rand() * 0.2)\n",
    "            end\n",
    "        elseif distribution == \"BinomialUNOS\"\n",
    "            # %pra denotes the panel reactive antibody level\n",
    "            # %pra of the patient < 0.8 : UNOS low sensitized patients\n",
    "            if get_prop(kep_graph, edge.dst, :pra) < 0.8\n",
    "                # failure rate equal to 10% if the patient is low sensitized\n",
    "                set_prop!(kep_graph, edge, :failure, 0.1)\n",
    "            else\n",
    "                # failure rate equal to 90% otherwise \n",
    "                set_prop!(kep_graph, edge, :failure, 0.9)\n",
    "            end\n",
    "        elseif distribution  == \"BinomialAPD\"\n",
    "            # %pra denotes the panel reactive antibody level\n",
    "            # %pra of the patient < 0.75 : APD low sensitized patients\n",
    "            if get_prop(kep_graph, edge.dst, :pra) < 0.75\n",
    "                # failure rate equal to 28% if the patient is low sensitized\n",
    "                set_prop!(kep_graph, edge, :failure, 0.28)\n",
    "            else\n",
    "                # failure rate equal to 58% otherwise \n",
    "                set_prop!(kep_graph, edge, :failure, 0.58)\n",
    "            end\n",
    "        elseif distribution == \"NoFailure\"\n",
    "            # failure rates equal to 0\n",
    "            set_prop!(kep_graph, edge, :failure, 0.)\n",
    "        end\n",
    "    end\n",
    "end\n"
   ]
  },
  {
   "cell_type": "code",
   "execution_count": 39,
   "metadata": {},
   "outputs": [],
   "source": [
    "failure_rates = get_failure_rates(kep_graph, \"Constant\");"
   ]
  },
  {
   "cell_type": "code",
   "execution_count": 31,
   "metadata": {},
   "outputs": [
    {
     "name": "stdout",
     "output_type": "stream",
     "text": [
      "[0.7, 0.7, 0.7, 0.7, 0.7, 0.7, 0.7, 0.7, 0.7, 0.7, 0.7, 0.7, 0.7, 0.7, 0.7, 0.7, 0.7, 0.7, 0.7, 0.7, 0.7, 0.7, 0.7, 0.7, 0.7, 0.7, 0.7, 0.7, 0.7, 0.7, 0.7, 0.7, 0.7, 0.7, 0.7, 0.7, 0.7, 0.7, 0.7, 0.7, 0.7, 0.7, 0.7, 0.7, 0.7, 0.7, 0.7, 0.7, 0.7, 0.7, 0.7, 0.7, 0.7, 0.7, 0.7, 0.7, 0.7, 0.7, 0.7]"
     ]
    }
   ],
   "source": [
    "print([get_prop(kep_graph,e,:failure) for e in edges(kep_graph)])"
   ]
  },
  {
   "cell_type": "markdown",
   "metadata": {},
   "source": [
    "## Travail à réaliser\n",
    "\n",
    "Nous vous donnons une grande liberté sur la façon de traiter le sujet. En fonction de décisions que vous justifierez, vous pourrez traiter le problème par une approche d'optimisation stochastique, d'optimisation robuste ou de toute autre approche averse aux risques. Le travail commencera par décrire l'approche suivie puis le modèle en découlant. Un code Julia permettra ensuite d'implémenter une ou plusieurs méthodes de résolution pour le modèle. Vous pourrez tester la ou les méthodes sur des instances de la PrefLib. Vos interprétations devront rendre compte des enjeux pratiques et des enjeux algorithmiques (optimalité, temps de calcul, passage à l'échelle, etc.) de votre travail.\n",
    "Le résultat de votre travail sera à rendre dans ce notebook avant le 14 janvier 2022. Chaque cellule du notebook aura préalablement été exécutée (sans erreur, évidemment), et il importera que les affichages utilisés dans vos interprétations y apparaissent. "
   ]
  },
  {
   "cell_type": "markdown",
   "metadata": {},
   "source": [
    "## Modélisation déterministe\n",
    "On modélise d'abord notre problème en supposant que tout les arcs ont un poids de 1.\n",
    "\n",
    "On note $w_{i,j} = 1, ~ \\forall (i,j) \\in A$, les poids des arcs du graphe.\n",
    "\n",
    "On considère les variables suivantes :\n",
    "- $x_{i,j} \\in \\{1,0\\}$, $x_{i,j} = 1$  si le donneur de la paire i donne au patient de la paire j \n",
    "\n",
    "\n",
    "Objectif :\n",
    "\n",
    "maximiser le nombre d'échange : max $\\sum_{i,j : (i,j) \\in A} x_{ij} w_{ij}$   \n",
    "\n",
    "Contraintes :\n",
    "\n",
    "- $\\sum_{j : (j,i) \\in A} x_{ji} = \\sum_{j : (i,j) \\in A} x_{ij}$, $\\forall i \\in V$,\n",
    "- $\\sum_{j : (i,j) \\in A} x_{ij} \\le 1$, $\\forall i \\in V$ \n",
    "\n",
    "Ce modèle est implémenté"
   ]
  },
  {
   "cell_type": "code",
   "execution_count": null,
   "metadata": {},
   "outputs": [],
   "source": [
    "@nbinclude(\"MIP.ipynb\")\n",
    "solve_mip"
   ]
  },
  {
   "cell_type": "code",
   "execution_count": null,
   "metadata": {},
   "outputs": [],
   "source": []
  }
 ],
 "metadata": {
  "kernelspec": {
   "display_name": "Julia 1.5.2",
   "language": "julia",
   "name": "julia-1.5"
  },
  "language_info": {
   "file_extension": ".jl",
   "mimetype": "application/julia",
   "name": "julia",
   "version": "1.5.2"
  }
 },
 "nbformat": 4,
 "nbformat_minor": 2
}
