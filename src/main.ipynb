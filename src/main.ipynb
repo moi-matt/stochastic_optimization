{
 "cells": [
  {
   "cell_type": "markdown",
   "metadata": {},
   "source": [
    "\n",
    "# Transfert d'organe sous incertitude sur la compatibilité\n",
    "\n",
    "Sibyline Moukarzel, Matthieu Roux"
   ]
  },
  {
   "cell_type": "markdown",
   "metadata": {},
   "source": [
    "<span style=\"color:  #FF0000\"> **Documentation de base sur les graphes en Julia : https://juliagraphs.org/Graphs.jl/dev/first_steps/access/** </span>"
   ]
  },
  {
   "cell_type": "markdown",
   "metadata": {},
   "source": [
    "## Introduction à rendre le 27 janvier\n",
    "\n",
    "Malgré l'augmentation croissante du nombre de transplantations d'organes effectuées chaque année (environ 6000 en 2017 dont 3782 transplantations de reins), la demande reste en perpétuelle augmentation. Ainsi 6000 organes, dont 3782 reins, ont été transplantés en 2017, mais il y avait encore 24000 personnes en attente d'un organe la même année. Les organes transplantés peuvent provenir d'un donneur décédé ou, dans le cas des reins et du foie, d'un donneur vivant consentant, le plus souvent membre de la famille du patient. Hélas, même si un proche accepte de prendre ce risque pour sa santé, il ne sera pas forcément compatible avec le patient. Pour cette raison, les pratiques médicales les législations évoluent dans de nombreux pays afin de permettre la mise en place d'un programme d'échange de dons d'organes.\n",
    "\n",
    "L'exemple le plus simple d'échange de don d'organes est celui où deux patients $P_1$ et $P_2$ sont accompagnés de donneurs $D_1$ et $D_2$. Les patients sont supposés incompatibles avec les donneurs qui les accompagnent, mais on suppose que $D_1$ est compatible avec $P_2$ et $D_2$ avec $P_1$. Il est alors possible de transplanter un organe de $D_1$ vers $P_2$ et de $D_2$ vers $P_1$ avec le consentement de tous et en suivant la procédure légale.\n",
    "\n",
    "Plus généralement, un cycle d'échange d'organes associe $k$ paires de patient-donneur $(P_{i_1},D_{i_1}), \\dots, (P_{i_k},D_{i_k})$ de sorte que $D_{i_l}$ donne à $P_{i_{l+1}}$ pour $l=1,\\dots,k-1$ et $D_{i_k}$ donne à $P_{i_1}$.\n",
    "Par ailleurs, le point essentiel est que les transferts soient tous réalisés en même temps et dans le même hôpital pour éviter qu'une rétractation de dernière minute ne lèse un patient et son donneur, et que les patients et donneurs venus ensemble et leur famille puissent se soutenir émotionnellement durant l'hospitalisation. \n",
    "Pour cette raison, le nombre d'échanges prenant place au sein d'un même cycle est nécessairement limité. En pratique, l'organisation d'un cycle de trois paires est déjà une épreuve pour le personnel d'un hôpital, et le plus grand cycle ayant jamais eu lieu a a impliqué six patients et donneurs.\n",
    "\n",
    "Dans ce projet, nous prendrons le point de vue de l'organisme national responsable de la gestion du programme d'échange d'organes. \n",
    "À chaque phase d'échange, l'objectif de cet organisme est de choisir un ensemble de cycles d'échanges entre paires compatibles afin de maximiser le nombre de patients recevant un organe. Dans certains cas, on peut aussi donner une priorité à certains patients en fonction de la gravité de leur état ou de la durée de leur attente. \n",
    "Pour cela, on pourra attribuer des poids différents à chaque patient et maximiser la somme des poids des patients recevant un organe. \n",
    "\n",
    "Lors d'une première phase de planification, l'organisme ne dispose que de données individuelles sur chaque donneur et chaque receveur pour déduire la compatibilité entre donneurs et patients. \n",
    "Ces données sont principalement le groupe sanguin et le complexe majeur d’histocompatibilité, aussi appelé système HLA. \n",
    "Ils en tirent un premier graphe de compatibilité orienté, $G=(V,A)$, où chaque sommet de $V$ représente une paire donneur-patient et où un arc entre deux paires $(P_k,D_k)$ et $(P_l,D_l)$ signifie que $D_k$ est __a priori__ compatible avec $P_l$.\n",
    "Cependant, la compatibilité effective entre deux personnes ne peut être assurée qu'en mettant en présence des tissus des deux personnes dans ce que l'on appelle un _test croisé_. \n",
    "En général, on peut supposer que les données individuelles permettent de déterminer une probabilité de réussite du test croisé.\n",
    "Mais, dans tous les cas, ces tests peuvent être lourds à réaliser pour les patients et demander des ressources importantes aupèrs des services hospitaliers, donc leur nombre sera toujours limité. \n",
    "On pourra pour cela considérer une limite fixe, une limite dépendant du nombre de paires patient-donneur ou bien supposer que les tests ne servent qu'à confirmer la compatibilité après avoir décidé les cycles d'échange entre patients a priori compatibles. "
   ]
  },
  {
   "cell_type": "markdown",
   "metadata": {},
   "source": [
    "## Description des données\n",
    "\n",
    "Des jeux de données correspondant à des ensembles de paires patient-donneur ont été partagés dans la PrefLib (https://www.preflib.org/data/MD). Le sous-ensemble d'instances auxquels vous pourrez vous intéresser dans un premier temps accompagne ce sujet sur Moodle. Les dix premières instances (numérotées de 1 à 10) contiennent 10 paires patient-donneur, les 10 suivantes (numérotées de 31 à 40) en contiennent 32 et les 10 dernières (numérotées de 71 à 80) en contiennent 64. Chaque jeu de données est décrit par deux fichiers, l'un énumérant les données relatives à chaque paire et portant l'extension .dat, et l'autre énumérant les données relatives aux arcs et portant l'extension .wmd.\n",
    "Nous vous fournissons une fonction permettant de lire les fichiers relatifs à un jeu de donnéees. "
   ]
  },
  {
   "cell_type": "markdown",
   "metadata": {},
   "source": [
    "Idées : \n",
    "\n",
    "    - Tester avec 32 et 64, analyser les résultats avec différentes distributions, quels sont les patients soignés ? Le temps de calcul ?\n",
    "    - Imposer une contrainte où un patient soit être pris absolument\n",
    "    - "
   ]
  },
  {
   "cell_type": "code",
   "execution_count": 1,
   "metadata": {},
   "outputs": [
    {
     "name": "stderr",
     "output_type": "stream",
     "text": [
      "┌ Info: Precompiling Gurobi [2e9cd046-0924-5485-92f1-d5272153d98b]\n",
      "└ @ Base loading.jl:1664\n",
      "\u001b[91m\u001b[1mERROR: \u001b[22m\u001b[39mLoadError: SystemError: opening file \"C:\\\\Users\\\\sibyl\\\\.julia\\\\packages\\\\Gurobi\\\\xvBAY\\\\deps\\\\deps.jl\": No such file or directory\n",
      "Stacktrace:\n",
      "  [1] \u001b[0m\u001b[1msystemerror\u001b[22m\u001b[0m\u001b[1m(\u001b[22m\u001b[90mp\u001b[39m::\u001b[0mString, \u001b[90merrno\u001b[39m::\u001b[0mInt32; \u001b[90mextrainfo\u001b[39m::\u001b[0mNothing\u001b[0m\u001b[1m)\u001b[22m\n",
      "\u001b[90m    @ \u001b[39m\u001b[90mBase\u001b[39m \u001b[90m.\\\u001b[39m\u001b[90m\u001b[4merror.jl:176\u001b[24m\u001b[39m\n",
      "  [2] \u001b[0m\u001b[1m#systemerror#80\u001b[22m\n",
      "\u001b[90m    @ \u001b[39m\u001b[90m.\\\u001b[39m\u001b[90m\u001b[4merror.jl:175\u001b[24m\u001b[39m\u001b[90m [inlined]\u001b[39m\n",
      "  [3] \u001b[0m\u001b[1msystemerror\u001b[22m\n",
      "\u001b[90m    @ \u001b[39m\u001b[90m.\\\u001b[39m\u001b[90m\u001b[4merror.jl:175\u001b[24m\u001b[39m\u001b[90m [inlined]\u001b[39m\n",
      "  [4] \u001b[0m\u001b[1mopen\u001b[22m\u001b[0m\u001b[1m(\u001b[22m\u001b[90mfname\u001b[39m::\u001b[0mString; \u001b[90mlock\u001b[39m::\u001b[0mBool, \u001b[90mread\u001b[39m::\u001b[0mNothing, \u001b[90mwrite\u001b[39m::\u001b[0mNothing, \u001b[90mcreate\u001b[39m::\u001b[0mNothing, \u001b[90mtruncate\u001b[39m::\u001b[0mNothing, \u001b[90mappend\u001b[39m::\u001b[0mNothing\u001b[0m\u001b[1m)\u001b[22m\n",
      "\u001b[90m    @ \u001b[39m\u001b[90mBase\u001b[39m \u001b[90m.\\\u001b[39m\u001b[90m\u001b[4miostream.jl:293\u001b[24m\u001b[39m\n",
      "  [5] \u001b[0m\u001b[1mopen\u001b[22m\n",
      "\u001b[90m    @ \u001b[39m\u001b[90m.\\\u001b[39m\u001b[90m\u001b[4miostream.jl:275\u001b[24m\u001b[39m\u001b[90m [inlined]\u001b[39m\n",
      "  [6] \u001b[0m\u001b[1mopen\u001b[22m\u001b[0m\u001b[1m(\u001b[22m\u001b[90mf\u001b[39m::\u001b[0mBase.var\"#387#388\"\u001b[90m{String}\u001b[39m, \u001b[90margs\u001b[39m::\u001b[0mString; \u001b[90mkwargs\u001b[39m::\u001b[0mBase.Pairs\u001b[90m{Symbol, Union{}, Tuple{}, NamedTuple{(), Tuple{}}}\u001b[39m\u001b[0m\u001b[1m)\u001b[22m\n",
      "\u001b[90m    @ \u001b[39m\u001b[90mBase\u001b[39m \u001b[90m.\\\u001b[39m\u001b[90m\u001b[4mio.jl:382\u001b[24m\u001b[39m\n",
      "  [7] \u001b[0m\u001b[1mopen\u001b[22m\n",
      "\u001b[90m    @ \u001b[39m\u001b[90m.\\\u001b[39m\u001b[90m\u001b[4mio.jl:381\u001b[24m\u001b[39m\u001b[90m [inlined]\u001b[39m\n",
      "  [8] \u001b[0m\u001b[1mread\u001b[22m\n",
      "\u001b[90m    @ \u001b[39m\u001b[90m.\\\u001b[39m\u001b[90m\u001b[4mio.jl:462\u001b[24m\u001b[39m\u001b[90m [inlined]\u001b[39m\n",
      "  [9] \u001b[0m\u001b[1m_include\u001b[22m\u001b[0m\u001b[1m(\u001b[22m\u001b[90mmapexpr\u001b[39m::\u001b[0mFunction, \u001b[90mmod\u001b[39m::\u001b[0mModule, \u001b[90m_path\u001b[39m::\u001b[0mString\u001b[0m\u001b[1m)\u001b[22m\n",
      "\u001b[90m    @ \u001b[39m\u001b[90mBase\u001b[39m \u001b[90m.\\\u001b[39m\u001b[90m\u001b[4mloading.jl:1484\u001b[24m\u001b[39m\n",
      " [10] \u001b[0m\u001b[1minclude\u001b[22m\u001b[0m\u001b[1m(\u001b[22m\u001b[90mmod\u001b[39m::\u001b[0mModule, \u001b[90m_path\u001b[39m::\u001b[0mString\u001b[0m\u001b[1m)\u001b[22m\n",
      "\u001b[90m    @ \u001b[39m\u001b[90mBase\u001b[39m \u001b[90m.\\\u001b[39m\u001b[90m\u001b[4mBase.jl:419\u001b[24m\u001b[39m\n",
      " [11] \u001b[0m\u001b[1minclude\u001b[22m\u001b[0m\u001b[1m(\u001b[22m\u001b[90mx\u001b[39m::\u001b[0mString\u001b[0m\u001b[1m)\u001b[22m\n",
      "\u001b[90m    @ \u001b[39m\u001b[35mGurobi\u001b[39m \u001b[90mC:\\Users\\sibyl\\.julia\\packages\\Gurobi\\xvBAY\\src\\\u001b[39m\u001b[90m\u001b[4mGurobi.jl:7\u001b[24m\u001b[39m\n",
      " [12] top-level scope\n",
      "\u001b[90m    @ \u001b[39m\u001b[90mC:\\Users\\sibyl\\.julia\\packages\\Gurobi\\xvBAY\\src\\\u001b[39m\u001b[90m\u001b[4mGurobi.jl:14\u001b[24m\u001b[39m\n",
      " [13] \u001b[0m\u001b[1minclude\u001b[22m\n",
      "\u001b[90m    @ \u001b[39m\u001b[90m.\\\u001b[39m\u001b[90m\u001b[4mBase.jl:419\u001b[24m\u001b[39m\u001b[90m [inlined]\u001b[39m\n",
      " [14] \u001b[0m\u001b[1minclude_package_for_output\u001b[22m\u001b[0m\u001b[1m(\u001b[22m\u001b[90mpkg\u001b[39m::\u001b[0mBase.PkgId, \u001b[90minput\u001b[39m::\u001b[0mString, \u001b[90mdepot_path\u001b[39m::\u001b[0mVector\u001b[90m{String}\u001b[39m, \u001b[90mdl_load_path\u001b[39m::\u001b[0mVector\u001b[90m{String}\u001b[39m, \u001b[90mload_path\u001b[39m::\u001b[0mVector\u001b[90m{String}\u001b[39m, \u001b[90mconcrete_deps\u001b[39m::\u001b[0mVector\u001b[90m{Pair{Base.PkgId, UInt64}}\u001b[39m, \u001b[90msource\u001b[39m::\u001b[0mNothing\u001b[0m\u001b[1m)\u001b[22m\n",
      "\u001b[90m    @ \u001b[39m\u001b[90mBase\u001b[39m \u001b[90m.\\\u001b[39m\u001b[90m\u001b[4mloading.jl:1554\u001b[24m\u001b[39m\n",
      " [15] top-level scope\n",
      "\u001b[90m    @ \u001b[39m\u001b[90m\u001b[4mstdin:1\u001b[24m\u001b[39m\n",
      "in expression starting at C:\\Users\\sibyl\\.julia\\packages\\Gurobi\\xvBAY\\src\\Gurobi.jl:7\n",
      "in expression starting at stdin:1\n"
     ]
    },
    {
     "ename": "LoadError",
     "evalue": "Failed to precompile Gurobi [2e9cd046-0924-5485-92f1-d5272153d98b] to C:\\Users\\sibyl\\.julia\\compiled\\v1.8\\Gurobi\\jl_D729.tmp.",
     "output_type": "error",
     "traceback": [
      "Failed to precompile Gurobi [2e9cd046-0924-5485-92f1-d5272153d98b] to C:\\Users\\sibyl\\.julia\\compiled\\v1.8\\Gurobi\\jl_D729.tmp.",
      "",
      "Stacktrace:",
      "  [1] error(s::String)",
      "    @ Base .\\error.jl:35",
      "  [2] compilecache(pkg::Base.PkgId, path::String, internal_stderr::IO, internal_stdout::IO, keep_loaded_modules::Bool)",
      "    @ Base .\\loading.jl:1707",
      "  [3] compilecache",
      "    @ .\\loading.jl:1651 [inlined]",
      "  [4] _require(pkg::Base.PkgId)",
      "    @ Base .\\loading.jl:1337",
      "  [5] _require_prelocked(uuidkey::Base.PkgId)",
      "    @ Base .\\loading.jl:1200",
      "  [6] macro expansion",
      "    @ .\\loading.jl:1180 [inlined]",
      "  [7] macro expansion",
      "    @ .\\lock.jl:223 [inlined]",
      "  [8] require(into::Module, mod::Symbol)",
      "    @ Base .\\loading.jl:1144",
      "  [9] eval",
      "    @ .\\boot.jl:368 [inlined]",
      " [10] include_string(mapexpr::typeof(REPL.softscope), mod::Module, code::String, filename::String)",
      "    @ Base .\\loading.jl:1428"
     ]
    }
   ],
   "source": [
    "# include all the necessary packages, if some of them are not installed, you will need to install them before\n",
    "using Random, MetaGraphs, SimpleWeightedGraphs,JuMP, DelimitedFiles, Distributions, NBInclude, GLPK, Gurobi, GraphPlot, Graphs"
   ]
  },
  {
   "cell_type": "code",
   "execution_count": 2,
   "metadata": {},
   "outputs": [
    {
     "ename": "LoadError",
     "evalue": "ArgumentError: C:/Users/Sibyline Moukarzel/Documents/Ecole/INSA - Sciences Po/INSA/5MA/Optimisation sous incertitude/Projet/data/MD-00001-00000001.wmd: file not found.",
     "output_type": "error",
     "traceback": [
      "ArgumentError: C:/Users/Sibyline Moukarzel/Documents/Ecole/INSA - Sciences Po/INSA/5MA/Optimisation sous incertitude/Projet/data/MD-00001-00000001.wmd: file not found.",
      "",
      "Stacktrace:",
      " [1] read_kep_file(wmd_file::String, dat_file::String)",
      "   @ Main C:\\Users\\sibyl\\stochastic_optimization\\src\\dataparser.ipynb:In[+1]:15",
      " [2] top-level scope",
      "   @ In[2]:7",
      " [3] eval",
      "   @ .\\boot.jl:368 [inlined]",
      " [4] include_string(mapexpr::typeof(REPL.softscope), mod::Module, code::String, filename::String)",
      "   @ Base .\\loading.jl:1428"
     ]
    }
   ],
   "source": [
    "# Inclusion du fichier contenant la fonction de parsing des données\n",
    "@nbinclude(\"dataparser.ipynb\")\n",
    "# Exemple d'utilisation de la fonction supposant que les fichiers sont dans le dossier data\n",
    "#matthieu_path = \"C:/Users/matth/Documents/5GM/optim sous incertitude/stochastic_optimization/data/\"\n",
    "sibyline_path = \"C:/Users/Sibyline Moukarzel/Documents/Ecole/INSA - Sciences Po/INSA/5MA/Optimisation sous incertitude/Projet/data/\" \n",
    "\n",
    "kep_graph = read_kep_file(sibyline_path*\"MD-00001-00000001.wmd\", sibyline_path*\"MD-00001-00000001.dat\");\n",
    "#kep_graph = read_kep_file(matthieu_path*\"MD-00001-00000001.wmd\", matthieu_path*\"MD-00001-00000001.dat\");"
   ]
  },
  {
   "cell_type": "markdown",
   "metadata": {},
   "source": [
    "Une fois le graphe de compatibilité donné, une instance est entièrement décrite par la connaissance de la distribution des incertitudes dans une approche par optimisation stochastique. Dans une approche par optimisation robuste, le pire cas est déjà connu pour chaque arête, il s'agit d'un échec de la transplantation. Plusieurs modèles d'incertitudes sont classiquement regardés dans la littérature, mais tous considèrent que la réussite du test croisé réalisé sur un arc $a$ suit une loi de Bernouilli de probabilité $1-f_a$ où $f_a$ est une probabilité d'échec donnée. Nous donnons ci-dessous la fonction permettant de calculer des probabilités d'échec pour tous les arcs en fonction d'un paramètre à choisir dans le tableau DISTRIBUTIONS."
   ]
  },
  {
   "cell_type": "code",
   "execution_count": 3,
   "metadata": {},
   "outputs": [
    {
     "data": {
      "text/plain": [
       "get_failure_rates"
      ]
     },
     "execution_count": 3,
     "metadata": {},
     "output_type": "execute_result"
    }
   ],
   "source": [
    "DISTRIBUTIONS = [\"Constant\",\"Binomial\",\"BinomialUNOS\",\"BinomialAPD\",\"NoFailure\"]\n",
    "\n",
    "\"\"\"\n",
    "    get_failure_rates\n",
    "\n",
    "Generate failure rates on each edge, and add its value as a property to the edge of the kep_graph. \n",
    "\n",
    "# Parameters\n",
    "* `kep_graph::MetaDiGraph` : graph describing the pairs and compatibilities\n",
    "* `distribution::String` : type of distirbution of uncertainties; to be chosen in the DISTRIBUTIONS vector\n",
    "\"\"\"\n",
    "function get_failure_rates(kep_graph::MetaDiGraph, distribution::String)\n",
    "\n",
    "    failure_rates = []\n",
    "\n",
    "    for edge in MetaGraphs.edges(kep_graph)\n",
    "        # Failure rates depend on the chosen distribution of uncertainties\n",
    "        if distribution == \"Constant\"\n",
    "            # constant failure rates equal to 70%\n",
    "            set_prop!(kep_graph, edge, :failure, 0.7)\n",
    "        elseif distribution == \"Binomial\"\n",
    "            if rand() < 0.25\n",
    "                # random failure rates equal to 10% on average for 25% edges\n",
    "                set_prop!(kep_graph, edge, :failure, rand() * 0.2)\n",
    "            else\n",
    "                # random failure rates equal to 90% on average for 75% edges\n",
    "                set_prop!(kep_graph, edge, :failure, 0.8 + rand() * 0.2)\n",
    "            end\n",
    "        elseif distribution == \"BinomialUNOS\"\n",
    "            # %pra denotes the panel reactive antibody level\n",
    "            # %pra of the patient < 0.8 : UNOS low sensitized patients\n",
    "            if get_prop(kep_graph, edge.dst, :pra) < 0.8\n",
    "                # failure rate equal to 10% if the patient is low sensitized\n",
    "                set_prop!(kep_graph, edge, :failure, 0.1)\n",
    "            else\n",
    "                # failure rate equal to 90% otherwise \n",
    "                set_prop!(kep_graph, edge, :failure, 0.9)\n",
    "            end\n",
    "        elseif distribution  == \"BinomialAPD\"\n",
    "            # %pra denotes the panel reactive antibody level\n",
    "            # %pra of the patient < 0.75 : APD low sensitized patients\n",
    "            if get_prop(kep_graph, edge.dst, :pra) < 0.75\n",
    "                # failure rate equal to 28% if the patient is low sensitized\n",
    "                set_prop!(kep_graph, edge, :failure, 0.28)\n",
    "            else\n",
    "                # failure rate equal to 58% otherwise \n",
    "                set_prop!(kep_graph, edge, :failure, 0.58)\n",
    "            end\n",
    "        elseif distribution == \"NoFailure\"\n",
    "            # failure rates equal to 0\n",
    "            set_prop!(kep_graph, edge, :failure, 0.)\n",
    "        end\n",
    "    end\n",
    "end\n"
   ]
  },
  {
   "cell_type": "markdown",
   "metadata": {},
   "source": []
  },
  {
   "cell_type": "code",
   "execution_count": 4,
   "metadata": {},
   "outputs": [
    {
     "ename": "LoadError",
     "evalue": "UndefVarError: kep_graph not defined",
     "output_type": "error",
     "traceback": [
      "UndefVarError: kep_graph not defined",
      "",
      "Stacktrace:",
      " [1] top-level scope",
      "   @ In[4]:1",
      " [2] eval",
      "   @ .\\boot.jl:368 [inlined]",
      " [3] include_string(mapexpr::typeof(REPL.softscope), mod::Module, code::String, filename::String)",
      "   @ Base .\\loading.jl:1428"
     ]
    }
   ],
   "source": [
    "failure_rates = get_failure_rates(kep_graph, \"Binomial\")"
   ]
  },
  {
   "cell_type": "code",
   "execution_count": 5,
   "metadata": {},
   "outputs": [
    {
     "ename": "LoadError",
     "evalue": "UndefVarError: kep_graph not defined",
     "output_type": "error",
     "traceback": [
      "UndefVarError: kep_graph not defined",
      "",
      "Stacktrace:",
      " [1] top-level scope",
      "   @ In[5]:1",
      " [2] eval",
      "   @ .\\boot.jl:368 [inlined]",
      " [3] include_string(mapexpr::typeof(REPL.softscope), mod::Module, code::String, filename::String)",
      "   @ Base .\\loading.jl:1428"
     ]
    }
   ],
   "source": [
    "print([get_prop(kep_graph,e,:failure) for e in MetaGraphs.edges(kep_graph)])"
   ]
  },
  {
   "cell_type": "markdown",
   "metadata": {},
   "source": [
    "## Travail à réaliser\n",
    "\n",
    "Nous vous donnons une grande liberté sur la façon de traiter le sujet. En fonction de décisions que vous justifierez, vous pourrez traiter le problème par une approche d'optimisation stochastique, d'optimisation robuste ou de toute autre approche averse aux risques. Le travail commencera par décrire l'approche suivie puis le modèle en découlant. Un code Julia permettra ensuite d'implémenter une ou plusieurs méthodes de résolution pour le modèle. Vous pourrez tester la ou les méthodes sur des instances de la PrefLib. Vos interprétations devront rendre compte des enjeux pratiques et des enjeux algorithmiques (optimalité, temps de calcul, passage à l'échelle, etc.) de votre travail.\n",
    "Le résultat de votre travail sera à rendre dans ce notebook avant le 14 janvier 2022. Chaque cellule du notebook aura préalablement été exécutée (sans erreur, évidemment), et il importera que les affichages utilisés dans vos interprétations y apparaissent. "
   ]
  },
  {
   "cell_type": "code",
   "execution_count": 6,
   "metadata": {},
   "outputs": [
    {
     "ename": "LoadError",
     "evalue": "UndefVarError: kep_graph not defined",
     "output_type": "error",
     "traceback": [
      "UndefVarError: kep_graph not defined",
      "",
      "Stacktrace:",
      " [1] top-level scope",
      "   @ In[6]:3",
      " [2] eval",
      "   @ .\\boot.jl:368 [inlined]",
      " [3] include_string(mapexpr::typeof(REPL.softscope), mod::Module, code::String, filename::String)",
      "   @ Base .\\loading.jl:1428"
     ]
    }
   ],
   "source": [
    "x = [0, 10, 20, 30, 40, 40, 40, 40, 40, 30, 20, 10, 0, 0, 0, 0]\n",
    "y = [0, 0, 0, 0, 0, 10, 20, 30, 40, 40, 40, 40, 40, 30, 20, 10]\n",
    "nodelabel = 1:MetaGraphs.nv(kep_graph)\n",
    "gplot(kep_graph, nodelabel = nodelabel, x, y)"
   ]
  },
  {
   "cell_type": "markdown",
   "metadata": {},
   "source": [
    "## Modélisation déterministe sans limite de taille de cycle d'échange\n",
    "On modélise d'abord notre problème en supposant que la probabilité d'échange pour chaque arc est de 1. On considère également qu'il n'y a pas de limite à la taille des cycles d'échanges.\n",
    "\n",
    "On note $w_{i,j} = 1, ~ \\forall (i,j) \\in A$, les poids des arcs du graphe.\n",
    "\n",
    "On considère les variables suivantes :\n",
    "- $x_{i,j} \\in \\{1,0\\}$, $x_{i,j} = 1$  si le donneur de la paire i donne au patient de la paire j \n",
    "\n",
    "\n",
    "Objectif :\n",
    "\n",
    "maximiser le nombre d'échange : max $\\sum_{i,j : (i,j) \\in A} x_{ij} w_{ij}$   \n",
    "\n",
    "Contraintes :\n",
    "\n",
    "- $\\sum_{j : (j,i) \\in A} x_{ji} = \\sum_{j : (i,j) \\in A} x_{ij}$, $\\forall i \\in V$, (le patient i recoit un rein ssi le donneur i donne un rein)\n",
    "\n",
    "- $\\sum_{j : (i,j) \\in A} x_{ij} \\le 1$, $\\forall i \\in V$, ( un donneur peut donner seulement un rein) "
   ]
  },
  {
   "cell_type": "code",
   "execution_count": 7,
   "metadata": {},
   "outputs": [
    {
     "data": {
      "text/plain": [
       "first_MIP (generic function with 1 method)"
      ]
     },
     "execution_count": 7,
     "metadata": {},
     "output_type": "execute_result"
    }
   ],
   "source": [
    "function first_MIP(kep_graph::MetaDiGraph)\n",
    "    nb_vertices = MetaGraphs.nv(kep_graph)\n",
    "    #modele = Model(Gurobi.Optimizer)\n",
    "    modele = Model(GLPK.Optimizer)\n",
    "    \n",
    "    # Nombre de paires de donneurs/patients, nombre de noeuds du graphe :\n",
    "    P = MetaGraphs.nv(kep_graph)\n",
    "    #N\n",
    "    compatible = [(i,j) for i in 1:nb_vertices, j in 1:nb_vertices if MetaGraphs.has_edge(kep_graph, i,j)]\n",
    "\n",
    "   \n",
    "    # Variable : indique si le patient de la paire j a un rein du donneur de la paire i\n",
    "    @variable(modele,x[i in 1:P,j in 1:P],Bin)\n",
    "    \n",
    "    # Contrainte : le patient i recoit un rein ssi le donneur i donne un rein\n",
    "    @constraint(modele,recoit[i in 1:P],sum(x[j,i] for j in 1:P if ((j,i) in compatible)) == sum(x[i,j] for j in 1:P if ((i,j) in compatible)))\n",
    "    # Contrainte : un donneur peut donner seulement un rein\n",
    "    @constraint(modele,capacite[i in 1:P],sum(x[i,j] for j in 1:P if ((i,j) in compatible))<=1)\n",
    "\n",
    "    # Contrainte : on veut des cycles plus petits que L\n",
    "    \n",
    "    # Objectif : maximiser le nombre total de transplantations\n",
    "    @objective(modele,Max,sum(x[i,j] for (i,j) in compatible))\n",
    "    println(modele)\n",
    "    set_optimizer_attribute(modele, MOI.Silent(), true)\n",
    "    optimize!(modele)\n",
    "\n",
    "return JuMP.objective_value(modele), JuMP.value.(x)\n",
    "end"
   ]
  },
  {
   "cell_type": "code",
   "execution_count": 8,
   "metadata": {},
   "outputs": [
    {
     "ename": "LoadError",
     "evalue": "UndefVarError: kep_graph not defined",
     "output_type": "error",
     "traceback": [
      "UndefVarError: kep_graph not defined",
      "",
      "Stacktrace:",
      " [1] top-level scope",
      "   @ In[8]:1",
      " [2] eval",
      "   @ .\\boot.jl:368 [inlined]",
      " [3] include_string(mapexpr::typeof(REPL.softscope), mod::Module, code::String, filename::String)",
      "   @ Base .\\loading.jl:1428"
     ]
    }
   ],
   "source": [
    "obj1, x1 = first_MIP(kep_graph)"
   ]
  },
  {
   "cell_type": "code",
   "execution_count": 9,
   "metadata": {},
   "outputs": [
    {
     "ename": "LoadError",
     "evalue": "UndefVarError: kep_graph not defined",
     "output_type": "error",
     "traceback": [
      "UndefVarError: kep_graph not defined",
      "",
      "Stacktrace:",
      " [1] top-level scope",
      "   @ In[9]:4",
      " [2] eval",
      "   @ .\\boot.jl:368 [inlined]",
      " [3] include_string(mapexpr::typeof(REPL.softscope), mod::Module, code::String, filename::String)",
      "   @ Base .\\loading.jl:1428"
     ]
    }
   ],
   "source": [
    "\n",
    "plot_x = [0, 10, 20, 30, 40, 40, 40, 40, 40, 30, 20, 10, 0, 0, 0, 0]\n",
    "plot_y = [0, 0, 0, 0, 0, 10, 20, 30, 40, 40, 40, 40, 40, 30, 20, 10]\n",
    "nb_vertices = MetaGraphs.nv(kep_graph)\n",
    "nodelabel = 1:nb_vertices\n",
    "optimized_graph = MetaDiGraph(nb_vertices, 0)\n",
    "\n",
    "for i in 1:nb_vertices\n",
    "    for j in 1:nb_vertices\n",
    "        if x1[i,j]>0\n",
    "            MetaGraphs.add_edge!(optimized_graph, i, j, :weight, x1[i,j])\n",
    "        end \n",
    "    end\n",
    "end\n",
    "gplot(optimized_graph, nodelabel = nodelabel, plot_x, plot_y)\n"
   ]
  },
  {
   "cell_type": "markdown",
   "metadata": {},
   "source": [
    "## Autre formulation déterministe"
   ]
  },
  {
   "cell_type": "markdown",
   "metadata": {},
   "source": [
    "On prend maintenant une formulation déterministe par cycle. En effet, la contrainte pour laquelle on a trop de chemin n'est pas cool..."
   ]
  },
  {
   "cell_type": "code",
   "execution_count": null,
   "metadata": {},
   "outputs": [],
   "source": []
  },
  {
   "cell_type": "markdown",
   "metadata": {},
   "source": [
    "## Premier modèle : les probabilité comme données déterministes"
   ]
  },
  {
   "cell_type": "markdown",
   "metadata": {},
   "source": [
    "Cette modélisation s'appuie sur le constat suivant : si on connait la probabilité de réussite d'une greffe (ou la probabilité d'échouer), on connait la probabilité de réussite d'un cycle.\n",
    "Soit $p_{ij}$ la probabilité de réussite d'une greffe entre le donneur $D_i$ et le patient $P_j$. Par ailleurs, on peut raisonnablement supposer que les probabilité de réussite des greffes d'un cycle sont indépendantes, puisque les donneurs/patients sont tous différents. On suppose par ailleurs qu'il n'y a pas d'erreur médicale, et que, une probabilité $p_{ij} = 1$ sera forcément une greffe réussie. Dans ce cas, la probabilité de réussite d'un cycle $c = (1, 2, ..., k)$ est données par $p_c = \\prod\\limits_{i = 1}^{k-1} p_{i, i+1}$, autrement dit, le produit des probabilités du cycle.\n",
    "\n",
    "On peut donc décider de trouver tous les cycles potentiels dans nos données (en fixant une taille maximale), puis de ne faire les tests croisés que pour les greffes présentes dans ces cycles."
   ]
  },
  {
   "cell_type": "markdown",
   "metadata": {},
   "source": [
    "### Trouver les cycles du graphe"
   ]
  },
  {
   "cell_type": "markdown",
   "metadata": {},
   "source": [
    "On commence par créer une fonction qui liste tous les cycles de taille inférieure ou égale à K dans un graphe G."
   ]
  },
  {
   "cell_type": "code",
   "execution_count": 10,
   "metadata": {},
   "outputs": [
    {
     "data": {
      "text/plain": [
       "liste_cycles (generic function with 1 method)"
      ]
     },
     "execution_count": 10,
     "metadata": {},
     "output_type": "execute_result"
    }
   ],
   "source": [
    "function liste_cycles(G::MetaDiGraph, K::Integer)\n",
    "    paires = [i for i in 1:nv(G)]\n",
    "    cycles = []\n",
    "    \n",
    "    function enumeration(p, c, K)\n",
    "        for s in neighbors(G, p) #  Successeurs de p\n",
    "            if s == c[1] # Si c'est le premier sommet du cycle\n",
    "                append!(cycles, [c])\n",
    "            elseif s < c[1]\n",
    "                continue\n",
    "            elseif s in c\n",
    "                continue\n",
    "            elseif length(c) <= K-1\n",
    "                c_copie = copy(c)\n",
    "                append!(c_copie, s)\n",
    "                enumeration(s, c_copie, K)\n",
    "            end\n",
    "        end \n",
    "    end\n",
    "    \n",
    "    for p in paires\n",
    "       c = [p]\n",
    "        enumeration(p, copy(c), K)\n",
    "    end\n",
    "    \n",
    "return(cycles)\n",
    "end"
   ]
  },
  {
   "cell_type": "markdown",
   "metadata": {},
   "source": [
    "Pour avoir tous les cycles d'un graphe, il faut que K soit égal (au minimum) au nombre de sommets sur graphe.Dans la réalité, on ne s'intéressera jamais aux grands cycles puisqu'on ne fait pas beaucoup de greffes en simultané. Comme le plus rand cycle historiquement réalisé est de 6 greffes, on utilisera donc cette valeur pour K. Il semble toutefois raisonnable, selon les cas d'étude, de réduire K à 4 (voire moins) pour des questions de faisabilité médicale."
   ]
  },
  {
   "cell_type": "markdown",
   "metadata": {},
   "source": [
    "Par exemple, le graphe `kep_graph` contient 3 cycles, que l'on peut retrouver ci-dessous."
   ]
  },
  {
   "cell_type": "code",
   "execution_count": 11,
   "metadata": {},
   "outputs": [
    {
     "ename": "LoadError",
     "evalue": "UndefVarError: kep_graph not defined",
     "output_type": "error",
     "traceback": [
      "UndefVarError: kep_graph not defined",
      "",
      "Stacktrace:",
      " [1] top-level scope",
      "   @ In[11]:1",
      " [2] eval",
      "   @ .\\boot.jl:368 [inlined]",
      " [3] include_string(mapexpr::typeof(REPL.softscope), mod::Module, code::String, filename::String)",
      "   @ Base .\\loading.jl:1428"
     ]
    }
   ],
   "source": [
    "println(liste_cycles(kep_graph, 18))"
   ]
  },
  {
   "cell_type": "code",
   "execution_count": 12,
   "metadata": {},
   "outputs": [
    {
     "ename": "LoadError",
     "evalue": "UndefVarError: kep_graph not defined",
     "output_type": "error",
     "traceback": [
      "UndefVarError: kep_graph not defined",
      "",
      "Stacktrace:",
      " [1] top-level scope",
      "   @ In[12]:1",
      " [2] eval",
      "   @ .\\boot.jl:368 [inlined]",
      " [3] include_string(mapexpr::typeof(REPL.softscope), mod::Module, code::String, filename::String)",
      "   @ Base .\\loading.jl:1428"
     ]
    }
   ],
   "source": [
    "L = liste_cycles(kep_graph, 18)"
   ]
  },
  {
   "cell_type": "code",
   "execution_count": 13,
   "metadata": {},
   "outputs": [
    {
     "ename": "LoadError",
     "evalue": "UndefVarError: L not defined",
     "output_type": "error",
     "traceback": [
      "UndefVarError: L not defined",
      "",
      "Stacktrace:",
      " [1] top-level scope",
      "   @ In[13]:1",
      " [2] eval",
      "   @ .\\boot.jl:368 [inlined]",
      " [3] include_string(mapexpr::typeof(REPL.softscope), mod::Module, code::String, filename::String)",
      "   @ Base .\\loading.jl:1428"
     ]
    }
   ],
   "source": [
    "println(vcat(L))"
   ]
  },
  {
   "cell_type": "code",
   "execution_count": 14,
   "metadata": {},
   "outputs": [
    {
     "data": {
      "text/plain": [
       "determinist_cycle_MIP (generic function with 1 method)"
      ]
     },
     "execution_count": 14,
     "metadata": {},
     "output_type": "execute_result"
    }
   ],
   "source": [
    "function determinist_cycle_MIP(kep_graph::MetaDiGraph, K)\n",
    "    nb_vertices = MetaGraphs.nv(kep_graph)\n",
    "    # modele = Model(Gurobi.Optimizer)\n",
    "    modele = Model(GLPK.Optimizer)\n",
    "    \n",
    "    # On cherche les cycles dans le graphe\n",
    "    cycles = liste_cycles(kep_graph, K)\n",
    "    weight_cycle = [length(c) for c in cycles]    \n",
    "    # Variable : indique si le cycle c est sélectionné ou non\n",
    "    @variable(modele, z[c in 1:length(cycles)], Bin)\n",
    "    \n",
    "    # Contrainte : une paire patient/donneur ne peut s'impliquer que dans un cycle au maximum\n",
    "    @constraint(modele, max_cycle[i in 1:nv(kep_graph)], sum(z[c] for c in 1:length(cycles) if i in cycles[c]) <= 1)\n",
    "    \n",
    "    # Objectif : maximiser le nombre total de transplantations\n",
    "    @objective(modele, Max, sum(weight_cycle[c]*z[c] for c in 1:length(cycles)))\n",
    "    println(modele)\n",
    "    set_optimizer_attribute(modele, MOI.Silent(), true)\n",
    "    optimize!(modele)\n",
    "\n",
    "return JuMP.objective_value(modele), JuMP.value.(z)\n",
    "end"
   ]
  },
  {
   "cell_type": "code",
   "execution_count": 15,
   "metadata": {},
   "outputs": [
    {
     "ename": "LoadError",
     "evalue": "UndefVarError: kep_graph not defined",
     "output_type": "error",
     "traceback": [
      "UndefVarError: kep_graph not defined",
      "",
      "Stacktrace:",
      " [1] top-level scope",
      "   @ In[15]:1",
      " [2] eval",
      "   @ .\\boot.jl:368 [inlined]",
      " [3] include_string(mapexpr::typeof(REPL.softscope), mod::Module, code::String, filename::String)",
      "   @ Base .\\loading.jl:1428"
     ]
    }
   ],
   "source": [
    "determinist_cycle_MIP(kep_graph,4)"
   ]
  },
  {
   "cell_type": "markdown",
   "metadata": {},
   "source": [
    "D'après la méthode utilisé sur cette section, on a donc 3 tests croisés à effectuer, malgré le fait qu'il y ait 18 couples patients/donneurs impliqués dans le graphe. Cette méthode permet donc de réduire largement le travail de préparation à faire, en tout cas sur ce premier exemple."
   ]
  },
  {
   "cell_type": "markdown",
   "metadata": {},
   "source": [
    "### Calcul de la probabilité de réussite d'un cycle"
   ]
  },
  {
   "cell_type": "markdown",
   "metadata": {},
   "source": [
    "On va ici définir une fonction `proba_cycle` qui calcule la probabilité de réussite d'un cycle en faisant le produit des probabilités de réussite de chaque greffe impliquée dans le cycle."
   ]
  },
  {
   "cell_type": "markdown",
   "metadata": {},
   "source": [
    "<span style=\"color:  #FF0000\">Je ne sais pas comment accéder aux proba d'échec.</span>"
   ]
  },
  {
   "cell_type": "code",
   "execution_count": 16,
   "metadata": {},
   "outputs": [
    {
     "data": {
      "text/plain": [
       "proba_cycle (generic function with 1 method)"
      ]
     },
     "execution_count": 16,
     "metadata": {},
     "output_type": "execute_result"
    }
   ],
   "source": [
    "function proba_cycle(G, c)  \n",
    "    proba = 1\n",
    "    n = size(c)[1]\n",
    "    for i in 1:(n-1)\n",
    "        proba = proba*(1 - get_prop(G,Graphs.SimpleGraphs.SimpleEdge(c[i], c[i+1]),:failure))\n",
    "    end\n",
    "    proba = proba * get_prop(G,Graphs.SimpleGraphs.SimpleEdge(c[n], c[1]),:failure)\n",
    "    return proba\n",
    "end    "
   ]
  },
  {
   "cell_type": "code",
   "execution_count": 17,
   "metadata": {},
   "outputs": [
    {
     "ename": "LoadError",
     "evalue": "UndefVarError: kep_graph not defined",
     "output_type": "error",
     "traceback": [
      "UndefVarError: kep_graph not defined",
      "",
      "Stacktrace:",
      " [1] top-level scope",
      "   @ In[17]:1",
      " [2] eval",
      "   @ .\\boot.jl:368 [inlined]",
      " [3] include_string(mapexpr::typeof(REPL.softscope), mod::Module, code::String, filename::String)",
      "   @ Base .\\loading.jl:1428"
     ]
    }
   ],
   "source": [
    "cycle = liste_cycles(kep_graph,4)[2]\n",
    "get_failure_rates(kep_graph, \"Binomial\")\n",
    "proba_cycle(kep_graph, cycle) "
   ]
  },
  {
   "cell_type": "code",
   "execution_count": 13,
   "metadata": {},
   "outputs": [
    {
     "data": {
      "text/plain": [
       "0.018900000000000007"
      ]
     },
     "execution_count": 13,
     "metadata": {},
     "output_type": "execute_result"
    }
   ],
   "source": [
    "get_failure_rates(kep_graph, \"Constant\")\n",
    "proba_cycle(kep_graph, cycle) "
   ]
  },
  {
   "cell_type": "markdown",
   "metadata": {},
   "source": [
    "### Implémentation du modèle"
   ]
  },
  {
   "cell_type": "markdown",
   "metadata": {},
   "source": [
    "<span style=\"color:  #FF0000\">**A faire plus tard :\n",
    "Il ne faut pas avoir une approche déterministe mais plutôt probabiliste (donc pas de solveur mais une métjde L-shaped) parce que, là, si un cycle a une proba très faible de réussite mais qu'aucune des paire n'est impliquée dans un autre cycle, il sera choisi. Alors qu'avec une méthode probabilité, on utilisera la moyenne donc on ne voudra pas pondérer par un cycle qui pourrait la faire baisser trop fortement (est-ce que c'est bien vrai ?).**</span>\n",
    "\n",
    "<span style=\"color:  #FF0000\">\n",
    "Dans ce cas, chaque choix de cycle arrivera avec une probabilité $p_c$ (les scénarios sont donc les différents cycles), le souci c'est qu'on aurait un modèle qui ne choisirait qu'un seul cycle ??\n",
    "\n",
    "\n",
    "Remarque : la fonction objectif du modèle ci-dessous est une formule d'espérance\n",
    "\n",
    "Je sais pas si la contrainte 1 est claire. Il faut peut être voir pour une autre formulation, mais l'idée c'est qu'un x ne peut valoir 1 que si le cycle c est choisi pour faire une greffe, sinon il doit valoir 0.</span>"
   ]
  },
  {
   "cell_type": "markdown",
   "metadata": {},
   "source": [
    "<span style=\"color:  #FF0000\">**A faire plus tard :\n",
    "Recoder avec seulement z**</span>\n",
    "Soit $C(K)$ l'ensemble des cycles du graphe de longueur au plus K. Soit $V$ l'ensemble des sommets (paires patients/donneurs) du graphes.\n",
    "Soit $p_c$ la probabilité de réussite associée au cycle $c$, pour tout $c \\in C(K)$.\n",
    "\n",
    "**Variables :**\n",
    "\n",
    "* $z_c$ : vaut 1 si le cycle $c$ est choisi, 0 sinon, pour tout $c \\in C$\n",
    "\n",
    "**Objectif :** On veut maximiser le nombre de cycle en tenant compte de leur probabilité de réussite  \n",
    "$max \\sum \\limits_{c \\in C} p_c z_c$\n",
    "\n",
    "**Contraintes :**\n",
    "* Un sommet appartient au plus à 1 cycle: $\\forall i \\in I, \\sum \\limits_{c:i \\in V(c)} z_{c} \\le 1$\n",
    "\n",
    "* Binarité et positivité des variables : $\\forall c \\in C(K) z_c \\in \\{0, 1\\}$\n",
    "pour le proba de réussite : mettre un seuil."
   ]
  },
  {
   "cell_type": "code",
   "execution_count": null,
   "metadata": {},
   "outputs": [],
   "source": [
    "function prod_MIP(kep_graph::MetaDiGraph, K)\n",
    "    nb_vertices = MetaGraphs.nv(kep_graph)\n",
    "    # modele = Model(Gurobi.Optimizer)\n",
    "    modele = Model(GLPK.Optimizer)\n",
    "    \n",
    "    # On cherche les cycles dans le graphe\n",
    "    cycles = liste_cycles(kep_graph, K)\n",
    "    \n",
    "    # On récupère les probabilités de réussite de chaque cycle\n",
    "    succes = []\n",
    "    for c in cycles\n",
    "       append!(succes, proba_cycle(kep_graph, c)) \n",
    "    end\n",
    "  \n",
    "    # Variable : indique si le cycle c est sélectionné ou non\n",
    "    @variable(modele, z[c in 1:length(cycles)], Bin)\n",
    "    \n",
    "    # Contrainte : une paire patient/donneur ne peut s'impliquer que dans un cycle au maximum\n",
    "    @constraint(modele, max_cycle[i in 1:nv(kep_graph), sum(x[i,c] for c in 1:length(cycles)) <= 1)\n",
    "    # Contrainte : Si un cycle est choisi, toutes les paires sont impliquées\n",
    "    @constraint(modele,implication[c in 1:length(cycles)], z[c] == x[i,c] for i in 1:nv(kep_graph))\n",
    "    \n",
    "    # Objectif : maximiser le nombre total de transplantations\n",
    "    @objective(modele, Max, sum(succes[c]*z[c] for c in 1:length(cycles))\n",
    "    println(modele)\n",
    "    set_optimizer_attribute(modele, MOI.Silent(), true)\n",
    "    optimize!(modele)\n",
    "\n",
    "return JuMP.objective_value(modele), JuMP.value.(z)\n",
    "end"
   ]
  },
  {
   "cell_type": "markdown",
   "metadata": {},
   "source": [
    "## Modèle validé par \"El profesor\"\n",
    "\n",
    "__Données__: \n",
    "- les scénarios $(\\xi_1, \\dots, \\xi_n)$, chacun représente une combinaison de cycles possibles au sein du graphe\n",
    "- $p_k$ la probabilité du scénario $\\xi_k$\n",
    "- A, l'ensemble des arcs dans les cycles \n",
    "- $l_c$, la longueur du cycle c\n",
    "- $\\gamma_a(\\omega) \\ a \\in A $, les v.a.iid qui valent 1 si le test est valide pour l'arc a avec une probabilité $p_a$\n",
    "\n",
    "__Variables__ :\n",
    "\n",
    "1er ordre :\n",
    "\n",
    "- \\begin{equation*}\n",
    "    \\eta_a = \n",
    "    \\begin{cases} \n",
    "    1 \\text{ si le test entre (i,j) = a est effectué} \\\\\n",
    "    0 \\text{ sinon}\n",
    "   \\end{cases}\n",
    "    \\end{equation*}\n",
    "    \n",
    "Recours :\n",
    "- \\begin{equation*}\n",
    "    z^k_c = \n",
    "    \\begin{cases} \n",
    "    1 \\text{ si on choisit le cycle c dans le scénario k} \\\\\n",
    "    0 \\text{ sinon}\n",
    "   \\end{cases}\n",
    "    \\end{equation*}\n",
    "\n",
    "\n",
    "\n",
    "__Objectif__ : maxmimiser le nombre de personnes sauvées \n",
    "\n",
    "$$ max_{z^k_c} \\mathbb{E}[ \\underset{c}{\\Sigma} l_c z^k_c ] = \\underset{k}{\\Sigma} p_k \\ \\underset{c}{\\Sigma} l_c z^k_c  $$\n",
    "\n",
    "\n",
    "\n",
    "__Contraintes__ : \n",
    "\n",
    "- une personne ne peut donner qu'une seule fois (un sommet appartient au plus à 1 cycle) :  $\\forall i \\in I, \\sum \\limits_{c:i \\in V(c)} z^k_{c} \\le 1$\n",
    "\n",
    "- le test doit être validé : $\\forall c \\in C, \\ \\forall a \\in c, \\ \\forall k, \\  \\gamma_a \\geq z^k_c \\ \\  $\n",
    "\n",
    "- Effectuer les tests avant de choisir un cycle : $\\forall c, \\ \\forall a \\in c \\ \\forall k, \\  \\eta_a \\geq z^k_c \\ \\  $\n",
    "\n",
    "- limite du nombre de test : $\\underset{a\\in A}{\\Sigma}\\eta_a \\leq M $\n",
    "\n",
    "\n",
    "Dans cette formulation, nous avons $2^{|A|}$ scénarios possibles, dans le cas où l'ensemble A est de grande dimmensions, on peut considérer que l'on a un nombre infini de scénarios et donc des distributions de probabilités continues. Dans ce cas, on échantillonera un nombre de scénarios donné. \n"
   ]
  },
  {
   "cell_type": "markdown",
   "metadata": {},
   "source": [
    "#### Résolution du problème avec la méthode L-shaped :\n",
    "\n",
    "Problème maître initial relaché :\n",
    "\n",
    " $$(\\mathbb{MPR}):\\max \\{0: \\underset{a\\in A}{\\Sigma}\\eta_a \\leq M\\}.$$\n",
    "\n",
    "\n",
    "Sous-problèmes :\n",
    "$$\\begin{equation*}\n",
    "Q(z^k_c,\\xi_k) =  \\begin{cases}\n",
    "\t\\max \\ \\underset{c}{\\Sigma} l_c z^k_c \\\\\n",
    "\t\\sum \\limits_{c:i \\in V(c)} z^k_{c} \\le 1 \\  \\forall i \\in I, \\\\\n",
    "\t\\gamma_a \\geq z^k_c \\ \\ \\ \\forall c \\in C, \\ \\forall a \\in c, \\ \\forall k \\\\\n",
    "\t \\eta_a \\geq z^k_c \\ \\ \\ \\forall c \\in C, \\ \\forall a \\in c,  \\ \\forall k \n",
    "\t \\end{cases}\n",
    "\\end{equation*}$$\n",
    "\n"
   ]
  },
  {
   "cell_type": "markdown",
   "metadata": {},
   "source": [
    "### Optimisation averse au risque \n",
    "\n",
    "Nous voulons sauver le maximum de personnes et chaque donnation doit être validée au préalable par un test croisé.\n",
    "\n",
    "Il semble naturel de vouloir éviter de faire des tests non concluant. En effet, un test non concluant peut donner de faux espoirs à une personne et entraîne un surcoût.\n",
    "\n",
    "On peut donc rajouter la contrainte suivante à notre modèle : $\\mathbb{P} (z^k_c \\ successful) \\geq \\alpha$: on veut que la probabilité de réussite du cycle c du scénario k doit être supérieur à un certain $\\alpha$\n",
    "\n",
    "Cette perspective peut être intéressante si on ne prend pas en compte taux d'anticorps réactif de panel (PRA). Un anticorps réactif de panel est créé lorsqu'un tissu étranger est introduit dans le corps. Si ce taux d'anticorps est élevé pour un receveur, il sera beaucoup plus difficile de lui faire corespondre un organe donneur (source : https://spiegato.com/fr/quest-ce-quun-anticorps-reactif-de-panel)   \n",
    "\n",
    "Ainsi, les patients avec un fort PRA ont une probabilité de réussite de greffe plus faible, les cycles contenant ces personnes ont donc  également une probabilité plus faible de réussite. Par conséquent, avec cette contrainte en probabilité, ces patients à fort PRA ont très peu de chance de se retrouver dans un cycle d'échange et sont donc pénalisés.   \n",
    "\n",
    "\n",
    "Rajouter une contrainte en proba pour sauver les personnes les plus en détresse.\n",
    "\n",
    "Voir ce qui peut se faire d'un point de vue de la CVaR"
   ]
  },
  {
   "cell_type": "code",
   "execution_count": 18,
   "metadata": {},
   "outputs": [
    {
     "ename": "LoadError",
     "evalue": "syntax: unexpected \"]\"",
     "output_type": "error",
     "traceback": [
      "syntax: unexpected \"]\"",
      "",
      "Stacktrace:",
      " [1] top-level scope",
      "   @ In[18]:18",
      " [2] eval",
      "   @ .\\boot.jl:373 [inlined]",
      " [3] include_string(mapexpr::typeof(REPL.softscope), mod::Module, code::String, filename::String)",
      "   @ Base .\\loading.jl:1196"
     ]
    }
   ],
   "source": [
    "function chance_constraint_cycle_MIP(kep_graph::MetaDiGraph, K, alpha)\n",
    "    nb_vertices = MetaGraphs.nv(kep_graph)\n",
    "    # modele = Model(Gurobi.Optimizer)\n",
    "    modele = Model(GLPK.Optimizer)\n",
    "    \n",
    "    # On cherche les cycles dans le graphe\n",
    "    cycles = liste_cycles(kep_graph, K)\n",
    "      \n",
    "    succes = [proba_cycle(kep_graph,c) for c in cycles]\n",
    "    \n",
    "    # Variable : indique si le cycle c est sélectionné ou non\n",
    "    @variable(modele, z[c in 1:length(cycles)], Bin)\n",
    "    \n",
    "    # Objectif : maximiser le nombre total de transplantations\n",
    "    @objective(modele, Max, sum(succes[c]*z[c] for c in 1:length(cycles)))\n",
    "\n",
    "    # Contrainte : une paire patient/donneur ne peut s'impliquer que dans un cycle au maximum\n",
    "    @constraint(modele, max_cycle[i in 1:nv(kep_graph)], sum(z[c] for c in 1:length(cycles) if i in cycles[c]) <= 1)\n",
    "    \n",
    "    println(modele)\n",
    "    set_optimizer_attribute(modele, MOI.Silent(), true)\n",
    "    optimize!(modele)\n",
    "\n",
    "return JuMP.objective_value(modele), JuMP.value.(z)\n",
    "end"
   ]
  },
  {
   "cell_type": "code",
   "execution_count": 17,
   "metadata": {},
   "outputs": [
    {
     "name": "stdout",
     "output_type": "stream",
     "text": [
      "Max 0.11463289643964947 z[1] + 0.010007517596818637 z[2] + 0.08155856712979939 z[3]\n",
      "Subject to\n",
      " risk_cons[1] : 0.11463289643964947 z[1] >= 0.01\n",
      " risk_cons[2] : 0.010007517596818637 z[2] >= 0.01\n",
      " risk_cons[3] : 0.08155856712979939 z[3] >= 0.01\n",
      " max_cycle[1] : z[1] + z[2] <= 1.0\n",
      " max_cycle[2] : 0 <= 1.0\n",
      " max_cycle[3] : z[2] + z[3] <= 1.0\n",
      " max_cycle[4] : 0 <= 1.0\n",
      " max_cycle[5] : 0 <= 1.0\n",
      " max_cycle[6] : z[1] + z[2] <= 1.0\n",
      " max_cycle[7] : 0 <= 1.0\n",
      " max_cycle[8] : z[2] + z[3] <= 1.0\n",
      " max_cycle[9] : 0 <= 1.0\n",
      " max_cycle[10] : 0 <= 1.0\n",
      " max_cycle[11] : 0 <= 1.0\n",
      " max_cycle[12] : 0 <= 1.0\n",
      " max_cycle[13] : 0 <= 1.0\n",
      " max_cycle[14] : 0 <= 1.0\n",
      " max_cycle[15] : 0 <= 1.0\n",
      " max_cycle[16] : 0 <= 1.0\n",
      " z[1] binary\n",
      " z[2] binary\n",
      " z[3] binary\n",
      "\n"
     ]
    },
    {
     "ename": "LoadError",
     "evalue": "Result index of attribute MathOptInterface.ObjectiveValue(1) out of bounds. There are currently 0 solution(s) in the model.",
     "output_type": "error",
     "traceback": [
      "Result index of attribute MathOptInterface.ObjectiveValue(1) out of bounds. There are currently 0 solution(s) in the model.",
      "",
      "Stacktrace:",
      "  [1] check_result_index_bounds",
      "    @ C:\\Users\\matth\\.julia\\packages\\MathOptInterface\\IIN1o\\src\\attributes.jl:170 [inlined]",
      "  [2] get(model::GLPK.Optimizer, attr::MathOptInterface.ObjectiveValue)",
      "    @ GLPK C:\\Users\\matth\\.julia\\packages\\GLPK\\az2oT\\src\\MOI_wrapper\\MOI_wrapper.jl:1919",
      "  [3] get(b::MathOptInterface.Bridges.LazyBridgeOptimizer{GLPK.Optimizer}, attr::MathOptInterface.ObjectiveValue)",
      "    @ MathOptInterface.Bridges C:\\Users\\matth\\.julia\\packages\\MathOptInterface\\IIN1o\\src\\Bridges\\bridge_optimizer.jl:946",
      "  [4] get(model::MathOptInterface.Utilities.CachingOptimizer{MathOptInterface.Bridges.LazyBridgeOptimizer{GLPK.Optimizer}, MathOptInterface.Utilities.UniversalFallback{MathOptInterface.Utilities.Model{Float64}}}, attr::MathOptInterface.ObjectiveValue)",
      "    @ MathOptInterface.Utilities C:\\Users\\matth\\.julia\\packages\\MathOptInterface\\IIN1o\\src\\Utilities\\cachingoptimizer.jl:820",
      "  [5] _moi_get_result(model::MathOptInterface.Utilities.CachingOptimizer{MathOptInterface.Bridges.LazyBridgeOptimizer{GLPK.Optimizer}, MathOptInterface.Utilities.UniversalFallback{MathOptInterface.Utilities.Model{Float64}}}, args::MathOptInterface.ObjectiveValue)",
      "    @ JuMP C:\\Users\\matth\\.julia\\packages\\JuMP\\zn6NT\\src\\JuMP.jl:1230",
      "  [6] get(model::Model, attr::MathOptInterface.ObjectiveValue)",
      "    @ JuMP C:\\Users\\matth\\.julia\\packages\\JuMP\\zn6NT\\src\\JuMP.jl:1250",
      "  [7] objective_value(model::Model; result::Int64)",
      "    @ JuMP C:\\Users\\matth\\.julia\\packages\\JuMP\\zn6NT\\src\\objective.jl:42",
      "  [8] objective_value",
      "    @ C:\\Users\\matth\\.julia\\packages\\JuMP\\zn6NT\\src\\objective.jl:42 [inlined]",
      "  [9] chance_constraint_cycle_MIP(kep_graph::MetaDiGraph{Int64, Int64}, K::Int64, alpha::Float64)",
      "    @ Main .\\In[14]:25",
      " [10] top-level scope",
      "    @ In[17]:1",
      " [11] eval",
      "    @ .\\boot.jl:373 [inlined]",
      " [12] include_string(mapexpr::typeof(REPL.softscope), mod::Module, code::String, filename::String)",
      "    @ Base .\\loading.jl:1196"
     ]
    }
   ],
   "source": [
    "chance_constraint_cycle_MIP(kep_graph, 4, 0.01)\n"
   ]
  },
  {
   "cell_type": "markdown",
   "metadata": {},
   "source": [
    "## Robuste \n",
    "\n",
    "Qu'est ce qu'un pire cas ?\n",
    "\n",
    "Les gens qui en ont le plus besoin ne sont pas sauvé,\n",
    "\n",
    "Proba très faible dans les cycles. \n",
    "\n",
    "\n"
   ]
  },
  {
   "cell_type": "markdown",
   "metadata": {},
   "source": [
    "Conclusion : Dans ce modèle, on constate que beaucoup de tests croisés sont à effectuer pour choisir les \"meilleurs\" cycles à mettre en oeuvre. Il semblerait donc pertinent de trouver une méthode de sélection de certains cycles avant la connaissance de toutes ces probabilités pour réduire le nombre de tests croisés à effectuer."
   ]
  }
 ],
 "metadata": {
  "kernelspec": {
   "display_name": "Julia 1.8.3",
   "language": "julia",
   "name": "julia-1.8"
  },
  "language_info": {
   "file_extension": ".jl",
   "mimetype": "application/julia",
   "name": "julia",
   "version": "1.8.3"
  },
  "toc": {
   "base_numbering": 1,
   "nav_menu": {},
   "number_sections": true,
   "sideBar": true,
   "skip_h1_title": true,
   "title_cell": "Table of Contents",
   "title_sidebar": "Contents",
   "toc_cell": false,
   "toc_position": {},
   "toc_section_display": true,
   "toc_window_display": false
  }
 },
 "nbformat": 4,
 "nbformat_minor": 2
}
