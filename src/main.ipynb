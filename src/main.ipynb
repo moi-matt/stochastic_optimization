{
 "cells": [
  {
   "cell_type": "markdown",
   "metadata": {},
   "source": [
    "\n",
    "# Transfert d'organe sous incertitude sur la compatibilité\n",
    "\n",
    "Sibylline Moukarzel, Matthieu Roux"
   ]
  },
  {
   "cell_type": "markdown",
   "metadata": {},
   "source": [
    "## Introduction\n",
    "\n",
    "Malgré l'augmentation croissante du nombre de transplantations d'organes effectuées chaque année (environ 6000 en 2017 dont 3782 transplantations de reins), la demande reste en perpétuelle augmentation. Ainsi 6000 organes, dont 3782 reins, ont été transplantés en 2017, mais il y avait encore 24000 personnes en attente d'un organe la même année. Les organes transplantés peuvent provenir d'un donneur décédé ou, dans le cas des reins et du foie, d'un donneur vivant consentant, le plus souvent membre de la famille du patient. Hélas, même si un proche accepte de prendre ce risque pour sa santé, il ne sera pas forcément compatible avec le patient. Pour cette raison, les pratiques médicales les législations évoluent dans de nombreux pays afin de permettre la mise en place d'un programme d'échange de dons d'organes.\n",
    "\n",
    "L'exemple le plus simple d'échange de don d'organes est celui où deux patients $P_1$ et $P_2$ sont accompagnés de donneurs $D_1$ et $D_2$. Les patients sont supposés incompatibles avec les donneurs qui les accompagnent, mais on suppose que $D_1$ est compatible avec $P_2$ et $D_2$ avec $P_1$. Il est alors possible de transplanter un organe de $D_1$ vers $P_2$ et de $D_2$ vers $P_1$ avec le consentement de tous et en suivant la procédure légale.\n",
    "\n",
    "Plus généralement, un cycle d'échange d'organes associe $k$ paires de patient-donneur $(P_{i_1},D_{i_1}), \\dots, P_{i_k},D_{i_k})$ de sorte que $D_{i_l}$ donne à $P_{i_{l+1}}$ pour $l=1,\\dots,k-1$ et $D_{i_k}$ donne à $P_{i_1}$.\n",
    "Par ailleurs, le point essentiel est que les transferts soient tous réalisés en même temps et dans le même hôpital pour éviter qu'une rétractation de dernière minute ne lèse un patient et son donneur, et que les patients et donneurs venus ensemble et leur famille puissent se soutenir émotionnellement durant l'hospitalisation. \n",
    "Pour cette raison, le nombre d'échanges prenant place au sein d'un même cycle est nécessairement limité. En pratique, l'organisation d'un cycle de trois paires est déjà une épreuve pour le personnel d'un hôpital, et le plus grand cycle ayant jamais eu lieu a a impliqué six patients et donneurs.\n",
    "\n",
    "Dans ce projet, nous prendrons le point de vue de l'organisme national responsable de la gestion du programme d'échange d'organes. \n",
    "À chaque phase d'échange, l'objectif de cet organisme est de choisir un ensemble de cycles d'échanges entre paires compatibles afin de maximiser le nombre de patients recevant un organe. Dans certains cas, on peut aussi donner une priorité à certains patients en fonction de la gravité de leur état ou de la durée de leur attente. \n",
    "Pour cela, on pourra attribuer des poids différents à chaque patient et maximiser la somme des poids des patients recevant un organe. \n",
    "\n",
    "Lors d'une première phase de planification, l'organisme ne dispose que de données individuelles sur chaque donneur et chaque receveur pour déduire la compatibilité entre donneurs et patients. \n",
    "Ces données sont principalement le groupe sanguin et le complexe majeur d’histocompatibilité, aussi appelé système HLA. \n",
    "Ils en tirent un premier graphe de compatibilité orienté, $G=(V,A)$, où chaque sommet de $V$ représente une paire donneur-patient et où un arc entre deux paires $(P_k,D_k)$ et $(P_l,D_l)$ signifie que $D_k$ est __a priori__ compatible avec $P_l$.\n",
    "Cependant, la compatibilité effective entre deux personnes ne peut être assurée qu'en mettant en présence des tissus des deux personnes dans ce que l'on appelle un _test croisé_. \n",
    "En général, on peut supposer que les données individuelles permettent de déterminer une probabilité de réussite du test croisé.\n",
    "Mais, dans tous les cas, ces tests peuvent être lourds à réaliser pour les patients et demander des ressources importantes aupèrs des services hospitaliers, donc leur nombre sera toujours limité. \n",
    "On pourra pour cela considérer une limite fixe, une limite dépendant du nombre de paires patient-donneur ou bien supposer que les tests ne servent qu'à confirmer la compatibilité après avoir décidé les cycles d'échange entre patients a priori compatibles. "
   ]
  },
  {
   "cell_type": "markdown",
   "metadata": {},
   "source": [
    "## Description des données\n",
    "\n",
    "Des jeux de données correspondant à des ensembles de paires patient-donneur ont été partagés dans la PrefLib (https://www.preflib.org/data/MD). Le sous-ensemble d'instances auxquels vous pourrez vous intéresser dans un premier temps accompagne ce sujet sur Moodle. Les dix premières instances (numérotées de 1 à 10) contiennent 10 paires patient-donneur, les 10 suivantes (numérotées de 31 à 40) en contiennent 32 et les 10 dernières (numérotées de 71 à 80) en contiennent 64. Chaque jeu de données est décrit par deux fichiers, l'un énumérant les données relatives à chaque paire et portant l'extension .dat, et l'autre énumérant les données relatives aux arcs et portant l'extension .wmd.\n",
    "Nous vous fournissons une fonction permettant de lire les fichiers relatifs à un jeu de donnéees. "
   ]
  },
  {
   "cell_type": "code",
   "execution_count": 1,
   "metadata": {},
   "outputs": [],
   "source": [
    "# include all the necessary packages, if some of them are not installed, you will need to install them before\n",
    "\n",
    "using Random, MetaGraphs, SimpleWeightedGraphs,JuMP, DelimitedFiles, Distributions, NBInclude"
   ]
  },
  {
   "cell_type": "code",
   "execution_count": 5,
   "metadata": {},
   "outputs": [
    {
     "name": "stderr",
     "output_type": "stream",
     "text": [
      "\u001b[32m\u001b[1m   Resolving\u001b[22m\u001b[39m package versions...\n",
      "\u001b[32m\u001b[1m  No Changes\u001b[22m\u001b[39m to `C:\\Users\\matth\\.julia\\environments\\v1.7\\Project.toml`\n",
      "\u001b[32m\u001b[1m  No Changes\u001b[22m\u001b[39m to `C:\\Users\\matth\\.julia\\environments\\v1.7\\Manifest.toml`\n"
     ]
    }
   ],
   "source": [
    "using Pkg\n",
    "Pkg.add(\"NBInclude\")"
   ]
  },
  {
   "cell_type": "code",
   "execution_count": 11,
   "metadata": {},
   "outputs": [],
   "source": [
    "# Inclusion du fichier contenant la fonction de parsing des données\n",
    "@nbinclude(\"dataparser.ipynb\")\n",
    "# Exemple d'utilisation de la fonction supposant que les fichiers sont dans le dossier data\n",
    "kep_graph = read_kep_file(\"data/MD-00001-00000001.wmd\",\"data/MD-00001-00000001.dat\");"
   ]
  },
  {
   "cell_type": "markdown",
   "metadata": {},
   "source": [
    "Une fois le graphe de compatibilité donné, une instance est entièrement décrite par la connaissance de la distribution des incertitudes dans une approche par optimisation stochastique. Dans une approche par optimisation robuste, le pire cas est déjà connu pour chaque arête, il s'agit d'un échec de la transplantation. Plusieurs modèles d'incertitudes sont classiquement regardés dans la littérature, mais tous considèrent que la réussite du test croisé réalisé sur un arc $a$ suit une loi de Bernouilli de probabilité $1-f_a$ où $f_a$ est une probabilité d'échec donnée. Nous donnons ci-dessous la fonction permettant de calculer des probabilités d'échec pour tous les arcs en fonction d'un paramètre à choisir dans le tableau DISTRIBUTIONS."
   ]
  },
  {
   "cell_type": "code",
   "execution_count": 15,
   "metadata": {},
   "outputs": [
    {
     "data": {
      "text/plain": [
       "get_failure_rates"
      ]
     },
     "execution_count": 15,
     "metadata": {},
     "output_type": "execute_result"
    }
   ],
   "source": [
    "DISTRIBUTIONS = [\"Constant\",\"Binomial\",\"BinomialUNOS\",\"BinomialAPD\",\"NoFailure\"]\n",
    "\n",
    "\"\"\"\n",
    "    get_failure_rates\n",
    "\n",
    "Generate failure rates on each edge, and add its value as a property to the edge of the kep_graph. \n",
    "\n",
    "# Parameters\n",
    "* `kep_graph::MetaDiGraph` : graph describing the pairs and compatibilities\n",
    "* `distribution::String` : type of distirbution of uncertainties; to be chosen in the DISTRIBUTIONS vector\n",
    "\"\"\"\n",
    "function get_failure_rates(kep_graph::MetaDiGraph, distribution::String)\n",
    "\n",
    "    failure_rates = []\n",
    "\n",
    "    for edge in MetaGraphs.edges(kep_graph)\n",
    "        # Failure rates depend on the chosen distribution of uncertainties\n",
    "        if distribution == \"Constant\"\n",
    "            # constant failure rates equal to 70%\n",
    "            set_prop!(kep_graph, edge, :failure, 0.7)\n",
    "        elseif distribution == \"Binomial\"\n",
    "            if rand() < 0.25\n",
    "                # random failure rates equal to 10% on average for 25% edges\n",
    "                set_prop!(kep_graph, edge, :failure, rand() * 0.2)\n",
    "            else\n",
    "                # random failure rates equal to 90% on average for 75% edges\n",
    "                set_prop!(kep_graph, edge, :failure, 0.8 + rand() * 0.2)\n",
    "            end\n",
    "        elseif distribution == \"BinomialUNOS\"\n",
    "            # %pra denotes the panel reactive antibody level\n",
    "            # %pra of the patient < 0.8 : UNOS low sensitized patients\n",
    "            if get_prop(kep_graph, edge.dst, :pra) < 0.8\n",
    "                # failure rate equal to 10% if the patient is low sensitized\n",
    "                set_prop!(kep_graph, edge, :failure, 0.1)\n",
    "            else\n",
    "                # failure rate equal to 90% otherwise \n",
    "                set_prop!(kep_graph, edge, :failure, 0.9)\n",
    "            end\n",
    "        elseif distribution  == \"BinomialAPD\"\n",
    "            # %pra denotes the panel reactive antibody level\n",
    "            # %pra of the patient < 0.75 : APD low sensitized patients\n",
    "            if get_prop(kep_graph, edge.dst, :pra) < 0.75\n",
    "                # failure rate equal to 28% if the patient is low sensitized\n",
    "                set_prop!(kep_graph, edge, :failure, 0.28)\n",
    "            else\n",
    "                # failure rate equal to 58% otherwise \n",
    "                set_prop!(kep_graph, edge, :failure, 0.58)\n",
    "            end\n",
    "        elseif distribution == \"NoFailure\"\n",
    "            # failure rates equal to 0\n",
    "            set_prop!(kep_graph, edge, :failure, 0.)\n",
    "        end\n",
    "    end\n",
    "end\n"
   ]
  },
  {
   "cell_type": "code",
   "execution_count": 16,
   "metadata": {},
   "outputs": [],
   "source": [
    "failure_rates = get_failure_rates(kep_graph, \"Constant\")"
   ]
  },
  {
   "cell_type": "code",
   "execution_count": 25,
   "metadata": {},
   "outputs": [
    {
     "name": "stdout",
     "output_type": "stream",
     "text": [
      "[0.7, 0.7, 0.7, 0.7, 0.7, 0.7, 0.7, 0.7, 0.7, 0.7, 0.7, 0.7, 0.7, 0.7, 0.7, 0.7, 0.7, 0.7, 0.7, 0.7, 0.7, 0.7, 0.7, 0.7, 0.7, 0.7, 0.7, 0.7, 0.7, 0.7, 0.7, 0.7, 0.7, 0.7, 0.7, 0.7, 0.7, 0.7, 0.7, 0.7, 0.7, 0.7, 0.7, 0.7, 0.7, 0.7, 0.7, 0.7, 0.7, 0.7, 0.7, 0.7, 0.7, 0.7, 0.7, 0.7, 0.7, 0.7, 0.7]"
     ]
    }
   ],
   "source": [
    "print([get_prop(kep_graph,e,:failure) for e in MetaGraphs.edges(kep_graph)])"
   ]
  },
  {
   "cell_type": "code",
   "execution_count": 22,
   "metadata": {},
   "outputs": [
    {
     "data": {
      "text/plain": [
       "SimpleEdgeIter 59"
      ]
     },
     "execution_count": 22,
     "metadata": {},
     "output_type": "execute_result"
    }
   ],
   "source": [
    "MetaGraphs.edges(kep_graph)"
   ]
  },
  {
   "cell_type": "code",
   "execution_count": 30,
   "metadata": {},
   "outputs": [
    {
     "ename": "LoadError",
     "evalue": "KeyError: key :failure not found",
     "output_type": "error",
     "traceback": [
      "KeyError: key :failure not found",
      "",
      "Stacktrace:",
      " [1] getindex(h::Dict{Symbol, Any}, key::Symbol)",
      "   @ Base .\\dict.jl:481",
      " [2] get_prop(g::MetaDiGraph{Int64, Int64}, e::Graphs.SimpleGraphs.SimpleEdge{Int64}, prop::Symbol)",
      "   @ MetaGraphs C:\\Users\\matth\\.julia\\packages\\MetaGraphs\\bffKb\\src\\MetaGraphs.jl:267",
      " [3] top-level scope",
      "   @ In[30]:1",
      " [4] eval",
      "   @ .\\boot.jl:373 [inlined]",
      " [5] include_string(mapexpr::typeof(REPL.softscope), mod::Module, code::String, filename::String)",
      "   @ Base .\\loading.jl:1196"
     ]
    }
   ],
   "source": [
    "get_prop(kep_graph,MetaGraphs.Edge(1,2), :failure)"
   ]
  },
  {
   "cell_type": "markdown",
   "metadata": {},
   "source": [
    "## Travail à réaliser\n",
    "\n",
    "Nous vous donnons une grande liberté sur la façon de traiter le sujet. En fonction de décisions que vous justifierez, vous pourrez traiter le problème par une approche d'optimisation stochastique, d'optimisation robuste ou de toute autre approche averse aux risques. Le travail commencera par décrire l'approche suivie puis le modèle en découlant. Un code Julia permettra ensuite d'implémenter une ou plusieurs méthodes de résolution pour le modèle. Vous pourrez tester la ou les méthodes sur des instances de la PrefLib. Vos interprétations devront rendre compte des enjeux pratiques et des enjeux algorithmiques (optimalité, temps de calcul, passage à l'échelle, etc.) de votre travail.\n",
    "Le résultat de votre travail sera à rendre dans ce notebook avant le 14 janvier 2022. Chaque cellule du notebook aura préalablement été exécutée (sans erreur, évidemment), et il importera que les affichages utilisés dans vos interprétations y apparaissent. "
   ]
  },
  {
   "cell_type": "markdown",
   "metadata": {},
   "source": [
    "## Modélisation déterministe\n",
    "On modélise d'abord notre problème en supposant que tout les arcs ont un poids de 1.\n",
    "\n",
    "On note $w_{i,j} = 1, ~ \\forall (i,j) \\in A$, les poids des arcs du graphe.\n",
    "\n",
    "On considère les variables suivantes :\n",
    "- $x_{i,j} \\in \\{1,0\\}$, $x_{i,j} = 1$  si le donneur de la paire i donne au patient de la paire j \n",
    "\n",
    "\n",
    "Objectif :\n",
    "\n",
    "maximiser le nombre d'échange : max $\\sum_{i,j : (i,j) \\in A} x_{ij} w_{ij}$   \n",
    "\n",
    "Contraintes :\n",
    "\n",
    "- $\\sum_{j : (j,i) \\in A} x_{ji} = \\sum_{j : (i,j) \\in A} x_{ij}$, $\\forall i \\in V$, (le patient i recoit un rein ssi le donneur i donne un rein)\n",
    "\n",
    "- $\\sum_{j : (i,j) \\in A} x_{ij} \\le 1$, $\\forall i \\in V$, ( un donneur peut donner seulement un rein) \n",
    "\n",
    "Ce modèle est implémenté dans le fichier MIP.ipynb"
   ]
  },
  {
   "cell_type": "code",
   "execution_count": null,
   "metadata": {},
   "outputs": [],
   "source": [
    "\n",
    "#modele = Model(Gurobi.Optimizer)\n",
    "modele = Model(GLPK.Optimizer)\n",
    "    \n",
    "# Nombre de paires de donneurs/patients, nombre de noeuds du graphe :\n",
    "P=size(new_inst.pairs)[1]\n",
    "# Longueur maximale d'un cycle\n",
    "L=new_inst.max_cycle_length\n",
    "    \n",
    "# Variable : indique si le patient de la paire j a un rein du donneur de la paire i\n",
    "@variable(modele,x[i in 1:P,j in 1:P],Bin)\n",
    "# Variable : indique si l'arc (i,j) appartient au graphe ou non\n",
    "#@variable(modele,w[i in 1:P,j in 1:P],Bin)\n",
    "    \n",
    "# Contrainte : le patient i recoit un rein ssi le donneur i donne un rein\n",
    "@constraint(modele,recoit[i in 1:P],sum(x[j,i] for j in 1:P if (new_inst.edge_weight[j,i]==1.0))==sum(x[i,j] for j in 1:P if (new_inst.edge_weight[i,j]==1.0)))\n",
    "    # Contrainte : un donneur peut donner seulement un rein\n",
    "@constraint(modele,capacite[i in 1:P],sum(x[i,j] for j in 1:P if (new_inst.edge_weight[i,j]==1.0))<=1)\n",
    "    # Contrainte : on veut des cycles plus petits que L\n",
    "    \n",
    "    # Objectif : maximiser le nombre total de transplantations\n",
    "@objective(modele,Max,sum(w[i,j]*x[i,j] for i in 1:P,j in 1:P if (new_inst.edge_weight[i,j]==1.0)))\n",
    "    \n",
    "set_optimizer_attribute(modele, MOI.Silent(), true)\n",
    "optimize!(modele)\n",
    "\n",
    "JuMP.objective_value(modele),JuMP.value.(x)\n"
   ]
  },
  {
   "cell_type": "code",
   "execution_count": null,
   "metadata": {},
   "outputs": [],
   "source": []
  }
 ],
 "metadata": {
  "kernelspec": {
   "display_name": "Julia 1.7.2",
   "language": "julia",
   "name": "julia-1.7"
  },
  "language_info": {
   "file_extension": ".jl",
   "mimetype": "application/julia",
   "name": "julia",
   "version": "1.7.2"
  }
 },
 "nbformat": 4,
 "nbformat_minor": 2
}
