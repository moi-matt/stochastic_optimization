{
 "cells": [
  {
   "cell_type": "code",
   "execution_count": null,
   "metadata": {},
   "outputs": [],
   "source": [
    "function solve_MIP(kep_graph)\n",
    "    #modele = Model(Gurobi.Optimizer)\n",
    "    modele = Model(GLPK.Optimizer)\n",
    "    \n",
    "    # Nombre de paires de donneurs/patients, nombre de noeuds du graphe :\n",
    "    P=size(new_inst.pairs)[1]\n",
    "    # Longueur maximale d'un cycle\n",
    "    L=new_inst.max_cycle_length\n",
    "    \n",
    "    # Variable : indique si le patient de la paire j a un rein du donneur de la paire i\n",
    "    @variable(modele,x[i in 1:P,j in 1:P],Bin)\n",
    "    # Variable : indique si l'arc (i,j) appartient au graphe ou non\n",
    "    @variable(modele,w[i in 1:P,j in 1:P],Bin)\n",
    "    \n",
    "    # Contrainte : le patient i recoit un rein ssi le donneur i donne un rein\n",
    "    @constraint(modele,recoit[i in 1:P],sum(x[j,i] for j in 1:P if (new_inst.edge_weight[j,i]==1.0))==sum(x[i,j] for j in 1:P if (new_inst.edge_weight[i,j]==1.0)))\n",
    "    # Contrainte : un donneur peut donner seulement un rein\n",
    "    @constraint(modele,capacite[i in 1:P],sum(x[i,j] for j in 1:P if (new_inst.edge_weight[i,j]==1.0))<=1)\n",
    "    # Contrainte : on veut des cycles plus petits que L\n",
    "    \n",
    "    # Objectif : maximiser le nombre total de transplantations\n",
    "    @objective(modele,Max,sum(w[i,j]*x[i,j] for i in 1:P,j in 1:P if (new_inst.edge_weight[i,j]==1.0)))\n",
    "    \n",
    "    set_optimizer_attribute(modele, MOI.Silent(), true)\n",
    "    optimize!(modele)\n",
    "\n",
    "    return JuMP.objective_value(modele),JuMP.value.(x)\n",
    "end"
   ]
  },
  {
   "cell_type": "code",
   "execution_count": null,
   "metadata": {},
   "outputs": [],
   "source": []
  }
 ],
 "metadata": {
  "kernelspec": {
   "display_name": "Julia 1.7.3",
   "language": "julia",
   "name": "julia-1.7"
  },
  "language_info": {
   "file_extension": ".jl",
   "mimetype": "application/julia",
   "name": "julia",
   "version": "1.7.3"
  }
 },
 "nbformat": 4,
 "nbformat_minor": 4
}
