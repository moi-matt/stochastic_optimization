{
 "cells": [
  {
   "cell_type": "code",
   "execution_count": null,
   "metadata": {},
   "outputs": [],
   "source": [
    "\"\"\"\n",
    "Edges_MIP \n",
    "\n",
    "Inputs : \n",
    "    - kep_graph : le graphique que l'on souhaite optimiser\n",
    "    - \n",
    "\"\"\"\n",
    "function edges_MIP(kep_graph::MetaDiGraph)\n",
    "    nb_vertices = MetaGraphs.nv(kep_graph)\n",
    "    #modele = Model(Gurobi.Optimizer)\n",
    "    modele = Model(GLPK.Optimizer)\n",
    "    \n",
    "    # Nombre de paires de donneurs/patients, nombre de noeuds du graphe :\n",
    "    P = MetaGraphs.nv(kep_graph)\n",
    "    #N\n",
    "    compatible = [(i,j) for i in 1:nb_vertices, j in 1:nb_vertices if MetaGraphs.has_edge(kep_graph, i,j)]\n",
    "\n",
    "   \n",
    "    # Variable : indique si le patient de la paire j a un rein du donneur de la paire i\n",
    "    @variable(modele,x[i in 1:P,j in 1:P],Bin)\n",
    "    \n",
    "    # Contrainte : le patient i recoit un rein ssi le donneur i donne un rein\n",
    "    @constraint(modele,recoit[i in 1:P],sum(x[j,i] for j in 1:P if ((j,i) in compatible)) == sum(x[i,j] for j in 1:P if ((i,j) in compatible)))\n",
    "    # Contrainte : un donneur peut donner seulement un rein\n",
    "    @constraint(modele,capacite[i in 1:P],sum(x[i,j] for j in 1:P if ((i,j) in compatible))<=1)\n",
    "\n",
    "    # Contrainte : on veut des cycles plus petits que L\n",
    "    \n",
    "    # Objectif : maximiser le nombre total de transplantations\n",
    "    @objective(modele,Max,sum(x[i,j]*(1 - get_prop(kep_graph,Graphs.SimpleGraphs.SimpleEdge(i, j),:failure)) for (i,j) in compatible))\n",
    " \n",
    "    set_optimizer_attribute(modele, MOI.Silent(), true)\n",
    "    optimize!(modele)\n",
    "\n",
    "return JuMP.objective_value(modele), JuMP.value.(x)\n",
    "end"
   ]
  },
  {
   "cell_type": "code",
   "execution_count": null,
   "metadata": {},
   "outputs": [],
   "source": [
    "function proba_cycle(G, c)  \n",
    "    proba = 1\n",
    "    n = size(c)[1]\n",
    "    for i in 1:(n-1)\n",
    "        proba = proba*(1 - get_prop(G,Graphs.SimpleGraphs.SimpleEdge(c[i], c[i+1]),:failure))\n",
    "    end\n",
    "    proba = proba *(1- get_prop(G,Graphs.SimpleGraphs.SimpleEdge(c[n], c[1]),:failure))\n",
    "    return proba\n",
    "end    \n",
    "\n",
    "function determinist_weighted_cycle_MIP(kep_graph::MetaDiGraph, K)\n",
    "    nb_vertices = MetaGraphs.nv(kep_graph)\n",
    "    # modele = Model(Gurobi.Optimizer)\n",
    "    modele = Model(GLPK.Optimizer)\n",
    "    \n",
    "    # On cherche les cycles dans le graphe\n",
    "    cycles = liste_cycles(kep_graph, K)\n",
    "    \n",
    "    # On récupère les probabilités de réussite de chaque cycle\n",
    "    succes = []\n",
    "    for c in cycles\n",
    "       append!(succes, proba_cycle(kep_graph, c)) \n",
    "    end\n",
    "  \n",
    "    # Variable : indique si le cycle c est sélectionné ou non\n",
    "    @variable(modele, z[c in 1:length(cycles)], Bin)\n",
    "    \n",
    "    # Contrainte : une paire patient/donneur ne peut s'impliquer que dans un cycle au maximum\n",
    "    @constraint(modele, max_cycle[i in 1:nv(kep_graph)], sum(z[c] for c in 1:length(cycles) if i in cycles[c]) <= 1)\n",
    "    \n",
    "    # Objectif : maximiser le nombre total de transplantations\n",
    "    @objective(modele, Max, sum(succes[c]*z[c] for c in 1:length(cycles)))\n",
    "    set_optimizer_attribute(modele, MOI.Silent(), true)\n",
    "    optimize!(modele)\n",
    "    \n",
    "    sol = []\n",
    "    for i in 1:length(cycles)\n",
    "        if  JuMP.value.(z)[i] == 1.0\n",
    "            \n",
    "            push!(sol, cycles[i])\n",
    "        end\n",
    "    end\n",
    "\n",
    "return sol\n",
    "end"
   ]
  }
 ],
 "metadata": {
  "kernelspec": {
   "display_name": "Julia 1.8.3",
   "language": "julia",
   "name": "julia-1.8"
  },
  "language_info": {
   "file_extension": ".jl",
   "mimetype": "application/julia",
   "name": "julia",
   "version": "1.8.3"
  },
  "toc": {
   "base_numbering": 1,
   "nav_menu": {},
   "number_sections": true,
   "sideBar": true,
   "skip_h1_title": false,
   "title_cell": "Table of Contents",
   "title_sidebar": "Contents",
   "toc_cell": false,
   "toc_position": {},
   "toc_section_display": true,
   "toc_window_display": false
  },
  "varInspector": {
   "cols": {
    "lenName": 16,
    "lenType": 16,
    "lenVar": 40
   },
   "kernels_config": {
    "python": {
     "delete_cmd_postfix": "",
     "delete_cmd_prefix": "del ",
     "library": "var_list.py",
     "varRefreshCmd": "print(var_dic_list())"
    },
    "r": {
     "delete_cmd_postfix": ") ",
     "delete_cmd_prefix": "rm(",
     "library": "var_list.r",
     "varRefreshCmd": "cat(var_dic_list()) "
    }
   },
   "types_to_exclude": [
    "module",
    "function",
    "builtin_function_or_method",
    "instance",
    "_Feature"
   ],
   "window_display": false
  }
 },
 "nbformat": 4,
 "nbformat_minor": 4
}
