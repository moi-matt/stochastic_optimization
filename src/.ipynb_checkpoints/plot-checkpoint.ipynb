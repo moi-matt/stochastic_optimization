{
 "cells": [
  {
   "cell_type": "code",
   "execution_count": null,
   "metadata": {},
   "outputs": [],
   "source": [
    "function plot_optimized_16edges(kep_graph::MetaDiGraph,xsol)\n",
    "    plot_x = [0, 10, 20, 30, 40, 40, 40, 40, 40, 30, 20, 10, 0, 0, 0, 0]\n",
    "    plot_y = [0, 0, 0, 0, 0, 10, 20, 30, 40, 40, 40, 40, 40, 30, 20, 10]\n",
    "    nb_vertices = MetaGraphs.nv(kep_graph)\n",
    "    nodelabel = 1:nb_vertices\n",
    "    optimized_graph = MetaDiGraph(nb_vertices, 0)\n",
    "\n",
    "    for i in 1:nb_vertices\n",
    "        for j in 1:nb_vertices\n",
    "            if xsol[i,j]>0\n",
    "                MetaGraphs.add_edge!(optimized_graph, i, j, :weight, xsol[i,j])\n",
    "            end \n",
    "        end\n",
    "    end\n",
    "    gplot(optimized_graph, nodelabel = nodelabel, plot_x, plot_y)\n",
    "end\n"
   ]
  },
  {
   "cell_type": "code",
   "execution_count": null,
   "metadata": {},
   "outputs": [],
   "source": [
    "function plot_cycle16edges(cycles)\n",
    "    plot_x = [0, 10, 20, 30, 40, 40, 40, 40, 40, 30, 20, 10, 0, 0, 0, 0]\n",
    "    plot_y = [0, 0, 0, 0, 0, 10, 20, 30, 40, 40, 40, 40, 40, 30, 20, 10]\n",
    "    nb_vertices = MetaGraphs.nv(kep_graph)\n",
    "    nodelabel = 1:nb_vertices\n",
    "    graph_to_plot = MetaDiGraph(nb_vertices, 0)\n",
    "    for li in cycles\n",
    "        for i in 1:(length(li)-1)\n",
    "            MetaGraphs.add_edge!(graph_to_plot, li[i], li[i+1], :weight, 1)\n",
    "        end\n",
    "        MetaGraphs.add_edge!(graph_to_plot, li[length(li)], li[1], :weight, 1)\n",
    "    end\n",
    "    gplot(graph_to_plot, nodelabel = nodelabel, plot_x, plot_y)\n",
    "end"
   ]
  }
 ],
 "metadata": {
  "kernelspec": {
   "display_name": "Julia 1.8.3",
   "language": "julia",
   "name": "julia-1.8"
  },
  "language_info": {
   "file_extension": ".jl",
   "mimetype": "application/julia",
   "name": "julia",
   "version": "1.8.3"
  },
  "toc": {
   "base_numbering": 1,
   "nav_menu": {},
   "number_sections": true,
   "sideBar": true,
   "skip_h1_title": false,
   "title_cell": "Table of Contents",
   "title_sidebar": "Contents",
   "toc_cell": false,
   "toc_position": {},
   "toc_section_display": true,
   "toc_window_display": false
  },
  "varInspector": {
   "cols": {
    "lenName": 16,
    "lenType": 16,
    "lenVar": 40
   },
   "kernels_config": {
    "python": {
     "delete_cmd_postfix": "",
     "delete_cmd_prefix": "del ",
     "library": "var_list.py",
     "varRefreshCmd": "print(var_dic_list())"
    },
    "r": {
     "delete_cmd_postfix": ") ",
     "delete_cmd_prefix": "rm(",
     "library": "var_list.r",
     "varRefreshCmd": "cat(var_dic_list()) "
    }
   },
   "types_to_exclude": [
    "module",
    "function",
    "builtin_function_or_method",
    "instance",
    "_Feature"
   ],
   "window_display": false
  },
  "vscode": {
   "interpreter": {
    "hash": "a58104ea32e7882c15a34d4c075f96185d31a1fdeaebbe63b7dca15a0f4e6bf7"
   }
  }
 },
 "nbformat": 4,
 "nbformat_minor": 2
}
