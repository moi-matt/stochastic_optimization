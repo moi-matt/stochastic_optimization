{
 "cells": [
  {
   "cell_type": "code",
   "execution_count": null,
   "metadata": {},
   "outputs": [],
   "source": [
    "\"\"\"\n",
    "    read_kep_file\n",
    "\n",
    "Contruct a kep_graph from a `.wmd` and a `.dat` files from PrefLib.\n",
    "\n",
    "# Parameters\n",
    "* `wmd_file::String` : path of the `.wmd` file.\n",
    "* `dat_file::String` : path of the `.dat` file.\n",
    "\"\"\"\n",
    "function read_kep_file(wmd_file::String, dat_file::String)\n",
    "    wmd_file_name = split(split(wmd_file, '/')[end], '.')[1]\n",
    "    dat_file_name = split(split(dat_file, '/')[end], '.')[1]\n",
    "\n",
    "    wmd_file_name == dat_file_name || throw(ArgumentError(\".wmd and .dat files do not correspond to the same dataset.\"))\n",
    "    isfile(wmd_file) || throw(ArgumentError(\"$(wmd_file): file not found.\"))\n",
    "    isfile(dat_file) || throw(ArgumentError(\".dat file not found.\"))\n",
    "\n",
    "    # Extract meta information from the .dat file\n",
    "    file = readdlm(dat_file, '\\n')\n",
    "    nb_vertices = length(file)-1\n",
    "    kep_graph = MetaDiGraph(nb_vertices, 0)\n",
    "    for line in file[2:end]\n",
    "        splitted_line = split(line, ',')\n",
    "        pair = parse(Int, splitted_line[1])\n",
    "        set_prop!(kep_graph, pair, :pra, parse(Float64, splitted_line[5]))\n",
    "    end\n",
    "    # Extract the graph structure from the .wmd file using a MetaGraph\n",
    "    # get the number of vertices in first line\n",
    "    wmd_io = open(wmd_file, \"r\")\n",
    "\n",
    "    # skip next nb_vertices lines, which are redundant with the data contained in the .dat file\n",
    "    for i in 1:nb_vertices+1\n",
    "        readline(wmd_io)\n",
    "    end\n",
    "    # read the set of edges\n",
    "    while !eof(wmd_io)\n",
    "        splitted_line = split(readline(wmd_io), ',')\n",
    "        # /!\\ Pairs are numbered from 0 in the second part of the file\n",
    "        source = parse(Int, splitted_line[1]) + 1\n",
    "        destination = parse(Int, splitted_line[2]) + 1\n",
    "        weight = parse(Int, splitted_line[3])\n",
    "\n",
    "        # do not add an edge that has a zero weight\n",
    "        if weight > 0\n",
    "            add_edge!(kep_graph, source, destination, :weight, weight)\n",
    "        end\n",
    "    end\n",
    "    return kep_graph\n",
    "end"
   ]
  }
 ],
 "metadata": {
  "kernelspec": {
   "display_name": "Julia 1.7.3",
   "language": "julia",
   "name": "julia-1.7"
  },
  "language_info": {
   "file_extension": ".jl",
   "mimetype": "application/julia",
   "name": "julia",
   "version": "1.7.3"
  }
 },
 "nbformat": 4,
 "nbformat_minor": 4
}
